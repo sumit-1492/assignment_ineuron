{
 "cells": [
  {
   "cell_type": "markdown",
   "id": "45fe39d0",
   "metadata": {},
   "source": [
    "# 1.Create a function that takes a list of strings and integers, and filters out the list so that it returns a list of integers only"
   ]
  },
  {
   "cell_type": "code",
   "execution_count": 3,
   "id": "bd10eb97",
   "metadata": {},
   "outputs": [
    {
     "name": "stdout",
     "output_type": "stream",
     "text": [
      "[1, 2, 3, 4]\n",
      "[0, 1729]\n",
      "[]\n"
     ]
    }
   ],
   "source": [
    "def filter_list(a):\n",
    "    if type(a) == list:\n",
    "        count = 0\n",
    "        for i in a:\n",
    "            if type(i)==str:\n",
    "                count = count + 1\n",
    "        if count>=1:\n",
    "            for j in range(count):\n",
    "                for k in a:\n",
    "                    if type(k)==str:\n",
    "                        a.remove(k)\n",
    "    return print(a)\n",
    "filter_list([1, 2, 3, \"a\", \"b\", 4]) \n",
    "filter_list([\"A\", 0, \"Edabit\", 1729, \"Python\", \"1729\"])\n",
    "filter_list([\"Nothing\", \"here\"])"
   ]
  },
  {
   "cell_type": "markdown",
   "id": "17697db7",
   "metadata": {},
   "source": [
    "# 2.Given a list of numbers, create a function which returns the list but with each element's index in the list added to itself. This means you add 0 to the number at index 0, add 1 to the number at index 1, etc..."
   ]
  },
  {
   "cell_type": "code",
   "execution_count": 12,
   "id": "2770c6e6",
   "metadata": {},
   "outputs": [
    {
     "name": "stdout",
     "output_type": "stream",
     "text": [
      "[0, 1, 2, 3, 4]\n",
      "[1, 3, 5, 7, 9]\n",
      "[5, 5, 5, 5, 5]\n"
     ]
    }
   ],
   "source": [
    "def add_indexes(a):\n",
    "    if type(a) == list:\n",
    "        s = []\n",
    "        for i in range(len(a)):\n",
    "            val = i + a[i]\n",
    "            s.append(val)\n",
    "    return print(s)\n",
    "add_indexes([0, 0, 0, 0, 0])\n",
    "add_indexes([1, 2, 3, 4, 5])\n",
    "add_indexes([5, 4, 3, 2, 1]) "
   ]
  },
  {
   "cell_type": "markdown",
   "id": "180804c2",
   "metadata": {},
   "source": [
    "# 3.Create a function that takes the height and radius of a cone as arguments and returns the volume of the cone rounded to the nearest hundredth. See the resources tab for the formula"
   ]
  },
  {
   "cell_type": "code",
   "execution_count": 21,
   "id": "de952f72",
   "metadata": {},
   "outputs": [
    {
     "name": "stdout",
     "output_type": "stream",
     "text": [
      "12.496\n",
      "562.3199999999999\n",
      "0.0\n"
     ]
    }
   ],
   "source": [
    "def cone_volume(h,r):\n",
    "    if h>=0 and r>=0:\n",
    "        area = 3.124 * (r**2) * (h/3)\n",
    "        return print(area)\n",
    "    else:\n",
    "        return print(\"check the input\")\n",
    "\n",
    "cone_volume(3, 2)\n",
    "cone_volume(15, 6)\n",
    "cone_volume(18, 0)"
   ]
  },
  {
   "cell_type": "markdown",
   "id": "34a229ed",
   "metadata": {},
   "source": [
    "# 4.This Triangular Number Sequence is generated from a pattern of dots that form a triangle. The first 5 numbers of the sequence, or dots, are: 1, 3, 6, 10, 15.\n",
    "# This means that the first triangle has just one dot, the second one has three dots, the third one has 6 dots and so on.Write a function that gives the number of dots with its corresponding triangle number of the sequence.\n"
   ]
  },
  {
   "cell_type": "code",
   "execution_count": 25,
   "id": "466ae260",
   "metadata": {},
   "outputs": [
    {
     "name": "stdout",
     "output_type": "stream",
     "text": [
      "1\n",
      "21\n",
      "23220\n"
     ]
    }
   ],
   "source": [
    "def triangle(n):\n",
    "    start = 0\n",
    "    for i in range(1,n+1):\n",
    "        start = start + i\n",
    "    return print(start)\n",
    "\n",
    "triangle(1)\n",
    "triangle(6)\n",
    "triangle(215)"
   ]
  },
  {
   "cell_type": "markdown",
   "id": "d44dd639",
   "metadata": {},
   "source": [
    "# 5.Create a function that takes a list of numbers between 1 and 10 (excluding one number) and returns the missing number."
   ]
  },
  {
   "cell_type": "code",
   "execution_count": 35,
   "id": "489dedc7",
   "metadata": {},
   "outputs": [
    {
     "name": "stdout",
     "output_type": "stream",
     "text": [
      "5\n",
      "10\n",
      "7\n"
     ]
    }
   ],
   "source": [
    "def missing_num(l):\n",
    "    c_l = [1,2,3,4,5,6,7,8,9,10]\n",
    "    miss = 0\n",
    "    for i in c_l:\n",
    "        if i not in l:\n",
    "            miss = miss + i\n",
    "    return print(miss)\n",
    "        \n",
    "missing_num([1, 2, 3, 4, 6, 7, 8, 9, 10])\n",
    "missing_num([7, 2, 3, 6, 5, 9, 1, 4, 8])\n",
    "missing_num([10, 5, 1, 2, 4, 6, 8, 3, 9])"
   ]
  },
  {
   "cell_type": "code",
   "execution_count": null,
   "id": "a95016ed",
   "metadata": {},
   "outputs": [],
   "source": []
  }
 ],
 "metadata": {
  "kernelspec": {
   "display_name": "Python 3",
   "language": "python",
   "name": "python3"
  },
  "language_info": {
   "codemirror_mode": {
    "name": "ipython",
    "version": 3
   },
   "file_extension": ".py",
   "mimetype": "text/x-python",
   "name": "python",
   "nbconvert_exporter": "python",
   "pygments_lexer": "ipython3",
   "version": "3.8.8"
  }
 },
 "nbformat": 4,
 "nbformat_minor": 5
}
