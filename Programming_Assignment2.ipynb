{
 "cells": [
  {
   "cell_type": "markdown",
   "metadata": {},
   "source": [
    "# 1.\tWrite a Python program to convert kilometers to miles?"
   ]
  },
  {
   "cell_type": "code",
   "execution_count": 14,
   "metadata": {},
   "outputs": [
    {
     "name": "stdout",
     "output_type": "stream",
     "text": [
      "Please give the kilometer: 23\n",
      "Given input kilometer is:  23.0 kilometer\n",
      "Given input converted to miles:  14.291533 miles\n"
     ]
    }
   ],
   "source": [
    "def convert_km_to_mile():\n",
    "    try:\n",
    "        km = float(input(\"Please give the kilometer: \"))\n",
    "        print(\"Given input kilometer is: \",km,\"kilometer\")\n",
    "        miles = 0.621371 * km\n",
    "        return print(\"Given input converted to miles: \",miles ,\"miles\")\n",
    "    except Exception as e:\n",
    "        print(\"please check your input type and rerurn the code\",\"\\n\",\"error msg:\",e)\n",
    "\n",
    "convert_km_to_mile()"
   ]
  },
  {
   "cell_type": "markdown",
   "metadata": {},
   "source": [
    "# 2.\tWrite a Python program to convert Celsius to Fahrenheit?"
   ]
  },
  {
   "cell_type": "code",
   "execution_count": 16,
   "metadata": {},
   "outputs": [
    {
     "name": "stdout",
     "output_type": "stream",
     "text": [
      "Please give the celsius input: 10\n",
      "Given input celsius is:  10.0 Celsius\n",
      "Given input converted to farenhit:  50.0 Fahrenheit\n"
     ]
    }
   ],
   "source": [
    "def convert_celsius_to_Fahrenheit():\n",
    "    try:\n",
    "        c = float(input(\"Please give the celsius input: \"))\n",
    "        print(\"Given input celsius is: \",c,\"Celsius\")\n",
    "        F  = (c * (9/5)) + 32\n",
    "        return print(\"Given input converted to farenhit: \",F ,\"Fahrenheit\")\n",
    "    except Exception as e:\n",
    "        print(\"please check your input type and rerurn the code\",\"\\n\",\"error msg:\",e)\n",
    "\n",
    "convert_celsius_to_Fahrenheit()"
   ]
  },
  {
   "cell_type": "markdown",
   "metadata": {},
   "source": [
    "# 3.\tWrite a Python program to display calendar?"
   ]
  },
  {
   "cell_type": "code",
   "execution_count": 18,
   "metadata": {},
   "outputs": [
    {
     "name": "stdout",
     "output_type": "stream",
     "text": [
      "year:2020\n",
      "                                  2020\n",
      "\n",
      "      January                   February                   March\n",
      "Mo Tu We Th Fr Sa Su      Mo Tu We Th Fr Sa Su      Mo Tu We Th Fr Sa Su\n",
      "       1  2  3  4  5                      1  2                         1\n",
      " 6  7  8  9 10 11 12       3  4  5  6  7  8  9       2  3  4  5  6  7  8\n",
      "13 14 15 16 17 18 19      10 11 12 13 14 15 16       9 10 11 12 13 14 15\n",
      "20 21 22 23 24 25 26      17 18 19 20 21 22 23      16 17 18 19 20 21 22\n",
      "27 28 29 30 31            24 25 26 27 28 29         23 24 25 26 27 28 29\n",
      "                                                    30 31\n",
      "\n",
      "       April                      May                       June\n",
      "Mo Tu We Th Fr Sa Su      Mo Tu We Th Fr Sa Su      Mo Tu We Th Fr Sa Su\n",
      "       1  2  3  4  5                   1  2  3       1  2  3  4  5  6  7\n",
      " 6  7  8  9 10 11 12       4  5  6  7  8  9 10       8  9 10 11 12 13 14\n",
      "13 14 15 16 17 18 19      11 12 13 14 15 16 17      15 16 17 18 19 20 21\n",
      "20 21 22 23 24 25 26      18 19 20 21 22 23 24      22 23 24 25 26 27 28\n",
      "27 28 29 30               25 26 27 28 29 30 31      29 30\n",
      "\n",
      "        July                     August                  September\n",
      "Mo Tu We Th Fr Sa Su      Mo Tu We Th Fr Sa Su      Mo Tu We Th Fr Sa Su\n",
      "       1  2  3  4  5                      1  2          1  2  3  4  5  6\n",
      " 6  7  8  9 10 11 12       3  4  5  6  7  8  9       7  8  9 10 11 12 13\n",
      "13 14 15 16 17 18 19      10 11 12 13 14 15 16      14 15 16 17 18 19 20\n",
      "20 21 22 23 24 25 26      17 18 19 20 21 22 23      21 22 23 24 25 26 27\n",
      "27 28 29 30 31            24 25 26 27 28 29 30      28 29 30\n",
      "                          31\n",
      "\n",
      "      October                   November                  December\n",
      "Mo Tu We Th Fr Sa Su      Mo Tu We Th Fr Sa Su      Mo Tu We Th Fr Sa Su\n",
      "          1  2  3  4                         1          1  2  3  4  5  6\n",
      " 5  6  7  8  9 10 11       2  3  4  5  6  7  8       7  8  9 10 11 12 13\n",
      "12 13 14 15 16 17 18       9 10 11 12 13 14 15      14 15 16 17 18 19 20\n",
      "19 20 21 22 23 24 25      16 17 18 19 20 21 22      21 22 23 24 25 26 27\n",
      "26 27 28 29 30 31         23 24 25 26 27 28 29      28 29 30 31\n",
      "                          30\n",
      "\n"
     ]
    }
   ],
   "source": [
    "import calendar\n",
    "year = int(input(\"year:\"))\n",
    "#month = int(input(\"month:\"))\n",
    "#print(calendar.month(year,month))\n",
    "print(calendar.calendar(year))"
   ]
  },
  {
   "cell_type": "markdown",
   "metadata": {},
   "source": [
    "# 4.\tWrite a Python program to solve quadratic equation?"
   ]
  },
  {
   "cell_type": "code",
   "execution_count": 21,
   "metadata": {},
   "outputs": [
    {
     "name": "stdout",
     "output_type": "stream",
     "text": [
      "Enter the coefficient of square of the variable quadratic equation: 1\n",
      "Enter the coefficient of the variable quadratic equation: -5\n",
      "Enter the constant quadratic equation:  6\n",
      "solution of the quadratic equation is:  3.0 , 2.0\n"
     ]
    }
   ],
   "source": [
    "def quadratic():\n",
    "    try:\n",
    "        a = float(input(\"Enter the coefficient of square of the variable quadratic equation: \"))\n",
    "        b = float(input(\"Enter the coefficient of the variable quadratic equation: \"))\n",
    "        c = float(input(\"Enter the constant quadratic equation:  \"))\n",
    "        x1 = ((-b) + ((b**2)-(4*a*c)))/(2*a)\n",
    "        x2 = ((-b) - ((b**2)-(4*a*c)))/(2*a)\n",
    "        return (print(\"solution of the quadratic equation is: \" ,x1,\",\",x2)) \n",
    "    except Exception as e:\n",
    "        print(\"Please check the input and rerun the code: \" , e)\n",
    "quadratic()"
   ]
  },
  {
   "cell_type": "markdown",
   "metadata": {},
   "source": [
    "# 5.\tWrite a Python program to swap two variables without temp variable?"
   ]
  },
  {
   "cell_type": "code",
   "execution_count": 27,
   "metadata": {},
   "outputs": [
    {
     "name": "stdout",
     "output_type": "stream",
     "text": [
      "Enter first variable: 14\n",
      "Enter second variable: Sumit\n",
      "Before swapping:  a = 14 , b = Sumit\n",
      "After swapping:  a = Sumit , b = 14\n"
     ]
    }
   ],
   "source": [
    "a = input(\"Enter first variable: \")\n",
    "b = input(\"Enter second variable: \")\n",
    "print(\"Before swapping: \",\"a =\",a,\",\",\"b =\",b)\n",
    "a,b = b,a\n",
    "print(\"After swapping: \",\"a =\",a,\",\",\"b =\",b)"
   ]
  }
 ],
 "metadata": {
  "kernelspec": {
   "display_name": "Python 3",
   "language": "python",
   "name": "python3"
  },
  "language_info": {
   "codemirror_mode": {
    "name": "ipython",
    "version": 3
   },
   "file_extension": ".py",
   "mimetype": "text/x-python",
   "name": "python",
   "nbconvert_exporter": "python",
   "pygments_lexer": "ipython3",
   "version": "3.8.5"
  }
 },
 "nbformat": 4,
 "nbformat_minor": 4
}
