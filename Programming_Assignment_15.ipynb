{
 "cells": [
  {
   "cell_type": "markdown",
   "id": "0b33a1f1",
   "metadata": {},
   "source": [
    "# 1.Please write a program using generator to print the numbers which can be divisible by 5 and 7 between 0 and n in comma separated form while n is input by console."
   ]
  },
  {
   "cell_type": "code",
   "execution_count": 29,
   "id": "ba6f0192",
   "metadata": {},
   "outputs": [
    {
     "name": "stdout",
     "output_type": "stream",
     "text": [
      "Enter a number as per your wish:350\n",
      "0,35,70,105,140,175,210,245,280,315,350\n"
     ]
    }
   ],
   "source": [
    "def divisible_5_7(n):\n",
    "        for i in range(n+1):\n",
    "            if i%35==0:\n",
    "                yield i\n",
    "    \n",
    "num = int(input(\"Enter a number as per your wish:\"))\n",
    "values = []\n",
    "for i in divisible_5_7(num):\n",
    "    values.append(str(i))\n",
    "print(\",\".join(values))"
   ]
  },
  {
   "cell_type": "markdown",
   "id": "bd1439f7",
   "metadata": {},
   "source": [
    "# 2.Please write a program using generator to print the even numbers between 0 and n in comma separated form while n is input by console."
   ]
  },
  {
   "cell_type": "code",
   "execution_count": 31,
   "id": "4c99a06d",
   "metadata": {},
   "outputs": [
    {
     "name": "stdout",
     "output_type": "stream",
     "text": [
      "Enter a number as per your wish:10\n",
      "0,2,4,6,8,10\n"
     ]
    }
   ],
   "source": [
    "def even(n):\n",
    "        for i in range(n+1):\n",
    "            if i%2==0:\n",
    "                yield i\n",
    "    \n",
    "num = int(input(\"Enter a number as per your wish:\"))\n",
    "values = []\n",
    "for i in even(num):\n",
    "    values.append(str(i))\n",
    "print(\",\".join(values))"
   ]
  },
  {
   "cell_type": "markdown",
   "id": "fcad4856",
   "metadata": {},
   "source": [
    "# 3.The Fibonacci Sequence is computed based on the following formula:\n",
    "# f(n)=0 if n=0\n",
    "# f(n)=1 if n=1\n",
    "# f(n)=f(n-1)+f(n-2) if n>1\n",
    "# Please write a program using list comprehension to print the Fibonacci Sequence in comma separated form with a given n input by console.\n"
   ]
  },
  {
   "cell_type": "code",
   "execution_count": 77,
   "id": "8147ea60",
   "metadata": {},
   "outputs": [
    {
     "name": "stdout",
     "output_type": "stream",
     "text": [
      "Enter a number as per your wish : 9\n",
      "Fibonacci series of 9 is :  0,1,1,2,3,5,8,13,21\n"
     ]
    }
   ],
   "source": [
    "def fibonacci(n):\n",
    "    if n == 0:\n",
    "        return 0\n",
    "    elif n == 1:\n",
    "        return 1\n",
    "    else: \n",
    "        return fibonacci(n-1) + fibonacci(n-2)\n",
    "    \n",
    "num = int(input(\"Enter a number as per your wish : \"))\n",
    "values = [ ]\n",
    "for i in range(0,num):\n",
    "    values.append(str(fibonacci(i)))\n",
    "print(\"Fibonacci series of\",num,\"is : \" ,\",\".join(values))"
   ]
  },
  {
   "cell_type": "markdown",
   "id": "362286c0",
   "metadata": {},
   "source": [
    "# 4.Assuming that we have some email addresses in the \"username@companyname.com\" format, please write program to print the user name of a given email address. Both user names and company names are composed of letters only."
   ]
  },
  {
   "cell_type": "code",
   "execution_count": 79,
   "id": "5372f194",
   "metadata": {},
   "outputs": [
    {
     "name": "stdout",
     "output_type": "stream",
     "text": [
      "Enter a number as per your wish : sumitkumar@ineuron.com\n",
      "User name of email_id is : sumitkumar\n"
     ]
    }
   ],
   "source": [
    "def username(s):\n",
    "    return print(\"User name of email_id is :\",s.split('@')[0])\n",
    "email_id = str(input(\"Enter a number as per your wish : \"))\n",
    "username(email_id)"
   ]
  },
  {
   "cell_type": "markdown",
   "id": "dad2fc14",
   "metadata": {},
   "source": [
    "# 5.Define a class named Shape and its subclass Square. The Square class has an init function which takes a length as argument. Both classes have a area function which can print the area of the shape where Shape's area is 0 by default."
   ]
  },
  {
   "cell_type": "code",
   "execution_count": 84,
   "id": "a6984ab3",
   "metadata": {},
   "outputs": [
    {
     "name": "stdout",
     "output_type": "stream",
     "text": [
      "25\n",
      "0\n"
     ]
    }
   ],
   "source": [
    "class shape():\n",
    "    def __init__(self):\n",
    "        pass\n",
    "    def area(self):\n",
    "        return 0\n",
    "class square(shape):    \n",
    "    def __init__(self, l = 0):\n",
    "        shape.__init__(self)\n",
    "        self.length = l\n",
    "\n",
    "    def area(self):\n",
    "        return self.length*self.length\n",
    "    \n",
    "sqr = square(5)\n",
    "print(sqr.area())     \n",
    "print(square().area()) "
   ]
  }
 ],
 "metadata": {
  "kernelspec": {
   "display_name": "Python 3",
   "language": "python",
   "name": "python3"
  },
  "language_info": {
   "codemirror_mode": {
    "name": "ipython",
    "version": 3
   },
   "file_extension": ".py",
   "mimetype": "text/x-python",
   "name": "python",
   "nbconvert_exporter": "python",
   "pygments_lexer": "ipython3",
   "version": "3.8.8"
  }
 },
 "nbformat": 4,
 "nbformat_minor": 5
}
