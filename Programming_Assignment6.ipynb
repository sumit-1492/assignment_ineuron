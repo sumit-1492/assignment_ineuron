{
 "cells": [
  {
   "cell_type": "markdown",
   "metadata": {},
   "source": [
    "# 1.\tWrite a Python Program to Display Fibonacci Sequence Using Recursion?"
   ]
  },
  {
   "cell_type": "code",
   "execution_count": 25,
   "metadata": {},
   "outputs": [
    {
     "name": "stdout",
     "output_type": "stream",
     "text": [
      "Enter the num:10\n",
      "Enter the list of two number:0,1\n",
      "Initial list :  [0, 1]\n",
      "Fibonacci list is: [0, 1, 1, 2, 3, 5, 8, 13, 21, 34]\n"
     ]
    }
   ],
   "source": [
    "def fibo(n):\n",
    "    '''\n",
    "    fibonacci series always start with 0,1\n",
    "    \n",
    "    '''\n",
    "    if n<=1:\n",
    "        return n\n",
    "    else:\n",
    "        return (fibo(n-1)+fibo(n-2))\n",
    "    \n",
    "num = int(input(\"Enter the num:\"))\n",
    "try:\n",
    "    if num>0:\n",
    "        l=list(map(int,input(\"Enter the list of two number:\").split(\",\")))\n",
    "        print(\"Initial list : \",l)\n",
    "        if len(l)==2:\n",
    "            if l[0]==0 and l[1]==1:\n",
    "                for i in range(2,num):\n",
    "                    l.append(fibo(i))\n",
    "                print(\"Fibonacci list is:\",l)\n",
    "            else:\n",
    "                raise Exception(\"Please give a appropriate list input i.e 0,1\")\n",
    "                \n",
    "        else:\n",
    "             raise Exception(\"Please give a appropriate list of length 2\")\n",
    "    else:\n",
    "        raise Exception(\"Please give a positive number\")\n",
    "except Exception as e:\n",
    "    print(\"Error:\",e)"
   ]
  },
  {
   "cell_type": "markdown",
   "metadata": {},
   "source": [
    "# 2.\tWrite a Python Program to Find Factorial of Number Using Recursion?\n"
   ]
  },
  {
   "cell_type": "code",
   "execution_count": 36,
   "metadata": {},
   "outputs": [
    {
     "name": "stdout",
     "output_type": "stream",
     "text": [
      "Enter a number:0\n",
      "Factorial of 0 is: 1\n"
     ]
    }
   ],
   "source": [
    "def fact(n):\n",
    "    if n == 0:\n",
    "        return 1\n",
    "    else:\n",
    "        return (n*fact(n-1))\n",
    "    \n",
    "    \n",
    "try:\n",
    "    num = int(input(\"Enter a number:\"))    \n",
    "\n",
    "    if num >=0:\n",
    "        print(\"Factorial of\",num,\"is:\",fact(num))\n",
    "    else:\n",
    "        raise Exception(\"Negative number has no factorial\")\n",
    "    \n",
    "except Exception as e:\n",
    "    print(\"Error:\",e)"
   ]
  },
  {
   "cell_type": "markdown",
   "metadata": {},
   "source": [
    "# 3.\tWrite a Python Program to calculate your Body Mass Index?\n"
   ]
  },
  {
   "cell_type": "code",
   "execution_count": 42,
   "metadata": {},
   "outputs": [
    {
     "name": "stdout",
     "output_type": "stream",
     "text": [
      "Enter your weight in kilogram(kg):69\n",
      "Enter your height in centimeters(cm):165\n",
      "your Body Mass Index(BMI) is: 25.344352617079885 kg/m^2\n"
     ]
    }
   ],
   "source": [
    "def bmi(w,h):\n",
    "    return w/((h*0.01)**2)\n",
    "\n",
    "weight = float(input(\"Enter your weight in kilogram(kg):\"))\n",
    "height = float(input(\"Enter your height in centimeters(cm):\"))\n",
    "if weight>0 and height>0:\n",
    "    print(\"your Body Mass Index(BMI) is:\",bmi(weight,height),\"kg/m^2\")\n",
    "else:\n",
    "    print(\"check your input\")"
   ]
  },
  {
   "cell_type": "markdown",
   "metadata": {},
   "source": [
    "# 4.\tWrite a Python Program to calculate the natural logarithm of any number?\n"
   ]
  },
  {
   "cell_type": "code",
   "execution_count": 49,
   "metadata": {},
   "outputs": [
    {
     "name": "stdout",
     "output_type": "stream",
     "text": [
      "Enter any number:-9\n",
      "Please do not give 0 or negative number\n",
      "please change the input\n"
     ]
    }
   ],
   "source": [
    "import math\n",
    "n = int(input(\"Enter any number:\"))\n",
    "if n>0:\n",
    "    print(\"Logarithim of\",n,\"is:\",math.log(n))\n",
    "else:\n",
    "    print(\"Please do not give 0 or negative number\\nplease change the input\")"
   ]
  },
  {
   "cell_type": "markdown",
   "metadata": {},
   "source": [
    "# 5.\tWrite a Python Program for cube sum of first n natural numbers"
   ]
  },
  {
   "cell_type": "code",
   "execution_count": 56,
   "metadata": {},
   "outputs": [
    {
     "name": "stdout",
     "output_type": "stream",
     "text": [
      "Enter the number :8\n",
      "cube some of 8 natural number is : 1296.0\n"
     ]
    }
   ],
   "source": [
    "n = int(input(\"Enter the number :\"))\n",
    "if n>0:\n",
    "    print(\"cube some of\",n,\"natural number is :\",((n*(n+1))/2)**2)\n",
    "else:\n",
    "    print('Please give a positive number')"
   ]
  }
 ],
 "metadata": {
  "kernelspec": {
   "display_name": "Python 3",
   "language": "python",
   "name": "python3"
  },
  "language_info": {
   "codemirror_mode": {
    "name": "ipython",
    "version": 3
   },
   "file_extension": ".py",
   "mimetype": "text/x-python",
   "name": "python",
   "nbconvert_exporter": "python",
   "pygments_lexer": "ipython3",
   "version": "3.8.5"
  }
 },
 "nbformat": 4,
 "nbformat_minor": 4
}
