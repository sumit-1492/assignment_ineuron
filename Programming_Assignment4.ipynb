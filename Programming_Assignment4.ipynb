{
 "cells": [
  {
   "cell_type": "markdown",
   "metadata": {},
   "source": [
    "# 1.\tWrite a Python Program to Find the Factorial of a Number?"
   ]
  },
  {
   "cell_type": "code",
   "execution_count": 235,
   "metadata": {},
   "outputs": [
    {
     "name": "stdout",
     "output_type": "stream",
     "text": [
      "Please give a number as per your wish : 10\n",
      "factorial of 10 is :  3628800\n"
     ]
    }
   ],
   "source": [
    "def factorial():\n",
    "    try:\n",
    "        n = int(input(\"Please give a number as per your wish : \"))\n",
    "        \n",
    "        if n == 0:\n",
    "            print(\"Factorial of\",n,\"is always : 1\")\n",
    "        \n",
    "        elif n>0:\n",
    "            fact = 1\n",
    "            for i in range(1,n+1):\n",
    "                fact = i*fact\n",
    "            print(\"factorial of\",n,\"is : \",fact)\n",
    "        \n",
    "        else:\n",
    "            print(\"Negative number has no factorial\",\"\\nPlease give  valid positive integer input\")\n",
    "    \n",
    "    except Exception as e:\n",
    "        print(\"Error:\",e,\"\\nplease check your input\")\n",
    "        \n",
    "        \n",
    "factorial()"
   ]
  },
  {
   "cell_type": "markdown",
   "metadata": {},
   "source": [
    "# 2.\tWrite a Python Program to Display the multiplication Table?"
   ]
  },
  {
   "cell_type": "code",
   "execution_count": 44,
   "metadata": {},
   "outputs": [
    {
     "name": "stdout",
     "output_type": "stream",
     "text": [
      "Please give a number for multiplication table : 9\n",
      "9 * 1 = 9\n",
      "9 * 2 = 18\n",
      "9 * 3 = 27\n",
      "9 * 4 = 36\n",
      "9 * 5 = 45\n",
      "9 * 6 = 54\n",
      "9 * 7 = 63\n",
      "9 * 8 = 72\n",
      "9 * 9 = 81\n",
      "9 * 10 = 90\n"
     ]
    }
   ],
   "source": [
    "def multable():\n",
    "    try:\n",
    "        n = int(input(\"Please give a number for multiplication table : \"))\n",
    "        \n",
    "        if n == 0:\n",
    "            raise Exception (\"can not give 0\")\n",
    "                    \n",
    "        elif n>0:\n",
    "            \n",
    "            for i in range(1,10+1):\n",
    "                \n",
    "                print(n,\"*\",i,\"=\", n*i)\n",
    "        \n",
    "        elif n<0:\n",
    "            raise Exception(\"Negative number has no multiplication table\")\n",
    "    \n",
    "    except Exception as e:\n",
    "        print(\"Error:\",e,\"\\nplease check your input\")\n",
    "        \n",
    "        \n",
    "multable()"
   ]
  },
  {
   "cell_type": "markdown",
   "metadata": {},
   "source": [
    "# 3.\tWrite a Python Program to Print the Fibonacci sequence?"
   ]
  },
  {
   "cell_type": "code",
   "execution_count": 2,
   "metadata": {},
   "outputs": [
    {
     "name": "stdout",
     "output_type": "stream",
     "text": [
      "please enter the number of terms in fibonaci series : 20\n",
      "Enter the numbers : 1,1\n",
      "Initial fibonacci series :  [1, 1]\n",
      "fibonacci series: [1, 1, 2, 3, 5, 8, 13, 21, 34, 55, 89, 144, 233, 377, 610, 987, 1597, 2584, 4181, 6765]\n"
     ]
    }
   ],
   "source": [
    "def fibonaci():\n",
    "    try:\n",
    "        #f=[1,1];\n",
    "        \n",
    "        n = int(input(\"please enter the number of terms in fibonaci series : \"))\n",
    "        \n",
    "        f = list(map(int,input(\"Enter the numbers : \").split(\",\")))\n",
    "        \n",
    "        print(\"Initial fibonacci series : \",f)\n",
    "        \n",
    "        if(len(f) == 2):\n",
    "            \n",
    "            if (n>0) and (n>2):\n",
    "                \n",
    "                if (f[0]==1 and f[1] ==1): \n",
    "                    \n",
    "                    for i in range(2,n):\n",
    "                         \n",
    "                        f.append(f[i-1]+f[i-2])\n",
    "\n",
    "                    print(\"fibonacci series:\",f)\n",
    "                \n",
    "                else:\n",
    "                    \n",
    "                    for i in range(2,n):\n",
    "                         \n",
    "                        f.append(f[i-1]+f[i-2])\n",
    "\n",
    "                    print(\"Not a generic one as initials are not correct\")\n",
    "                    print(\"fibonacci series:\",f)\n",
    "\n",
    "            elif n<0:\n",
    "\n",
    "                print(\"can not evaluate fibonacci series for negative numbers\")\n",
    "\n",
    "            else:\n",
    "\n",
    "                print(\"please give a input more than 2 else it will print intial series : \",f)\n",
    "        \n",
    "        elif (len(f) > 2):\n",
    "            \n",
    "            print(\"length of given list is more than 2\")\n",
    "            \n",
    "        else:\n",
    "            \n",
    "            print(\"length of list is less than 1\")\n",
    "            \n",
    "    except Exception as e:\n",
    "        \n",
    "        print(\"error occured : \",e)\n",
    "        \n",
    "fibonaci()"
   ]
  },
  {
   "cell_type": "markdown",
   "metadata": {},
   "source": [
    "# 4.\tWrite a Python Program to Check Armstrong Number?"
   ]
  },
  {
   "cell_type": "code",
   "execution_count": 233,
   "metadata": {},
   "outputs": [
    {
     "name": "stdout",
     "output_type": "stream",
     "text": [
      "Enter the number in terms of string : 1634\n",
      "It is a Armstrong_number :  1634 \n",
      "The summation of nth power of  digits are :  1634\n"
     ]
    }
   ],
   "source": [
    "def Armstrong_Number():\n",
    "    try:\n",
    "        s = str(input(\"Enter the number in terms of string : \"))\n",
    "        l = list(s)\n",
    "        num = int(s)\n",
    "        n = len(l)\n",
    "        sum = 0\n",
    "        for i in range(0,n):\n",
    "            sum = sum + int(l[i])**n\n",
    "        if num == sum:\n",
    "                print(\"It is a Armstrong_number : \" , num ,\"\\nThe summation of nth power of  digits are : \",sum)\n",
    "        else:\n",
    "                print(\"It is not a Armstrong_number : \" , num ,\"\\nThe summation of digits are : \",sum)\n",
    "    except Exception as e:\n",
    "        print(\"Error\",e)\n",
    "        \n",
    "Armstrong_Number()"
   ]
  },
  {
   "cell_type": "markdown",
   "metadata": {},
   "source": [
    "# 5.\tWrite a Python Program to Find Armstrong Number in an Interval?"
   ]
  },
  {
   "cell_type": "code",
   "execution_count": 234,
   "metadata": {},
   "outputs": [
    {
     "name": "stdout",
     "output_type": "stream",
     "text": [
      "Enter the lower limit : 1\n",
      "Enter the upper limit : 2000\n",
      "2000\n",
      "It is a Armstrong_number and the summation of nth power of  digits are :  1 , 1\n",
      "It is a Armstrong_number and the summation of nth power of  digits are :  2 , 2\n",
      "It is a Armstrong_number and the summation of nth power of  digits are :  3 , 3\n",
      "It is a Armstrong_number and the summation of nth power of  digits are :  4 , 4\n",
      "It is a Armstrong_number and the summation of nth power of  digits are :  5 , 5\n",
      "It is a Armstrong_number and the summation of nth power of  digits are :  6 , 6\n",
      "It is a Armstrong_number and the summation of nth power of  digits are :  7 , 7\n",
      "It is a Armstrong_number and the summation of nth power of  digits are :  8 , 8\n",
      "It is a Armstrong_number and the summation of nth power of  digits are :  9 , 9\n",
      "It is a Armstrong_number and the summation of nth power of  digits are :  153 , 153\n",
      "It is a Armstrong_number and the summation of nth power of  digits are :  370 , 370\n",
      "It is a Armstrong_number and the summation of nth power of  digits are :  371 , 371\n",
      "It is a Armstrong_number and the summation of nth power of  digits are :  407 , 407\n",
      "It is a Armstrong_number and the summation of nth power of  digits are :  1634 , 1634\n",
      "No Armstrong number present within the range\n"
     ]
    }
   ],
   "source": [
    "def Armstrong_Number_interval():\n",
    "    try:\n",
    "        ll = int(input(\"Enter the lower limit : \"))\n",
    "        uu = int(input(\"Enter the upper limit : \"))\n",
    "        if ll > 0 and uu > 0:\n",
    "            nl = []\n",
    "            for j in range(ll,uu+1):\n",
    "                nl.append(j)\n",
    "            #print(nl)\n",
    "            nl_l = len(nl)\n",
    "            print(nl_l)\n",
    "            for i in range(0,nl_l):\n",
    "                s = str(nl[i])\n",
    "                l = list(s)\n",
    "                num = int(s)\n",
    "                n = len(l)\n",
    "                sum = 0\n",
    "                for k in range(0,n):\n",
    "                    sum = sum + int(l[k])**n\n",
    "                if num == sum:\n",
    "                        print(\"It is a Armstrong_number and the summation of nth power of  digits are : \",num ,\",\",sum)\n",
    "            else :\n",
    "                        print(\"No Armstrong number present within the range\")\n",
    "                        \n",
    "                        \n",
    "        else:\n",
    "            raise Exception(\"can not take negative or lower and upper bound\")\n",
    "        \n",
    "    except Exception as e:\n",
    "        print(\"Error :\",e,\"\\nplease check input\")\n",
    "                      \n",
    "Armstrong_Number_interval()"
   ]
  },
  {
   "cell_type": "markdown",
   "metadata": {},
   "source": [
    "# 6.\tWrite a Python Program to Find the Sum of Natural Numbers?"
   ]
  },
  {
   "cell_type": "code",
   "execution_count": 231,
   "metadata": {},
   "outputs": [
    {
     "name": "stdout",
     "output_type": "stream",
     "text": [
      "Enter the number : 100\n",
      "The sum of 100 natural numbers is :  5050.0\n"
     ]
    }
   ],
   "source": [
    "try:\n",
    "    n = int(input(\"Enter the number : \"))\n",
    "    if n>0:\n",
    "        print (\"The sum of\",n,\"natural numbers is : \",(n*(n+1))/2)\n",
    "    else:\n",
    "        print(\"Please check the input\",\"\\n\"\"By mistakely you entered a negative number\")\n",
    "except Exception as e:\n",
    "    print(\"Error\",e,\"\\nplease check the input\")"
   ]
  },
  {
   "cell_type": "code",
   "execution_count": null,
   "metadata": {},
   "outputs": [],
   "source": []
  }
 ],
 "metadata": {
  "kernelspec": {
   "display_name": "Python 3",
   "language": "python",
   "name": "python3"
  },
  "language_info": {
   "codemirror_mode": {
    "name": "ipython",
    "version": 3
   },
   "file_extension": ".py",
   "mimetype": "text/x-python",
   "name": "python",
   "nbconvert_exporter": "python",
   "pygments_lexer": "ipython3",
   "version": "3.8.5"
  }
 },
 "nbformat": 4,
 "nbformat_minor": 4
}
