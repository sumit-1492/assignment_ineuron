{
 "cells": [
  {
   "cell_type": "markdown",
   "id": "6983f13a",
   "metadata": {},
   "source": [
    "# 1.Create a function that takes three parameters where:\n",
    "#           x is the start of the range (inclusive).\n",
    "#           y is the end of the range (inclusive).\n",
    "#           n is the divisor to be checked against.\n",
    "# Return an ordered list with numbers in the range that are divisible by the third parameter n. Return an empty list if there are no numbers that are divisible by n.\n"
   ]
  },
  {
   "cell_type": "code",
   "execution_count": 4,
   "id": "325fa318",
   "metadata": {},
   "outputs": [
    {
     "name": "stdout",
     "output_type": "stream",
     "text": [
      "[3, 6, 9]\n",
      "[8]\n",
      "[]\n"
     ]
    }
   ],
   "source": [
    "def list_operation(a,b,c):\n",
    "    e_l = []\n",
    "    for i in range(a,b):\n",
    "        if i%c == 0:\n",
    "            e_l.append(i)\n",
    "    return print(e_l)\n",
    "\n",
    "list_operation(1, 10, 3) \n",
    "list_operation(7, 9, 2) \n",
    "list_operation(15, 20, 7)      "
   ]
  },
  {
   "cell_type": "markdown",
   "id": "516c995f",
   "metadata": {},
   "source": [
    "# 2.Create a function that takes in two lists and returns True if the second list follows the first list by one element, and False otherwise. In other words, determine if the second list is the first list shifted to the right by 1."
   ]
  },
  {
   "cell_type": "code",
   "execution_count": 4,
   "id": "10e26724",
   "metadata": {},
   "outputs": [
    {
     "name": "stdout",
     "output_type": "stream",
     "text": [
      "True\n",
      "False\n",
      "True\n",
      "False\n"
     ]
    }
   ],
   "source": [
    "def simon_says(a,b):\n",
    "    if len(a)==len(b):\n",
    "        a.pop()\n",
    "        b.pop(0)\n",
    "        if a == b :\n",
    "            return print(True)\n",
    "        else:\n",
    "            return print(False)\n",
    "    else:\n",
    "        return print(\"Please check the input length\")\n",
    "    \n",
    "simon_says([1, 2], [5, 1])\n",
    "simon_says([1, 2], [5, 5]) \n",
    "simon_says([1, 2, 3, 4, 5], [0, 1, 2, 3, 4]) \n",
    "simon_says([1, 2, 3, 4, 5], [5, 5, 1, 2, 3]) "
   ]
  },
  {
   "cell_type": "markdown",
   "id": "c261dd8a",
   "metadata": {},
   "source": [
    "# 3.A group of friends have decided to start a secret society. The name will be the first letter of each of their names, sorted in alphabetical order.\n",
    "# Create a function that takes in a list of names and returns the name of the secret society.\n"
   ]
  },
  {
   "cell_type": "code",
   "execution_count": 17,
   "id": "0abbe3e5",
   "metadata": {},
   "outputs": [
    {
     "name": "stdout",
     "output_type": "stream",
     "text": [
      "Society name is: AMS\n",
      "Society name is: CHLN\n",
      "Society name is: CJMPRR\n",
      "Society name is: ACJMPR\n"
     ]
    }
   ],
   "source": [
    "def society_name(l_n):\n",
    "    if type(l_n) == list:\n",
    "        e_s = \"\"\n",
    "        for names in l_n:\n",
    "            if type(names)== str:\n",
    "                if names[0].isupper() == True:\n",
    "                    f_l = names[0]\n",
    "                    e_s = e_s + f_l\n",
    "                else:\n",
    "                    f_l = names[0].upper()\n",
    "                    e_s = e_s + f_l\n",
    "            else:\n",
    "                return print(\"Give appropriate input\")\n",
    "    else:\n",
    "        return print(\"Given input is not a list\")\n",
    "    \n",
    "    e_l = list(e_s)\n",
    "    e_l.sort()\n",
    "    f_s = \"\"\n",
    "    for letter in e_l:\n",
    "        f_s = f_s + letter    \n",
    "    return print(\"Society name is:\", f_s)\n",
    "    \n",
    "society_name([\"Adam\", \"Sarah\", \"Malcolm\"])\n",
    "society_name([\"Harry\", \"Newt\", \"Luna\", \"Cho\"]) \n",
    "society_name([\"Phoebe\", \"Chandler\", \"Rachel\", \"Ross\", \"Monica\", \"Joey\"])\n",
    "society_name([\"Phoebe\", \"chandler\", \"achel\", \"ross\", \"Monica\", \"Joey\"])"
   ]
  },
  {
   "cell_type": "markdown",
   "id": "2a7f03e8",
   "metadata": {},
   "source": [
    "# 4.An isogram is a word that has no duplicate letters. Create a function that takes a string and returns either True or False depending on whether or not it's an \"isogram\"."
   ]
  },
  {
   "cell_type": "code",
   "execution_count": 20,
   "id": "eec6e2f1",
   "metadata": {},
   "outputs": [
    {
     "name": "stdout",
     "output_type": "stream",
     "text": [
      "True\n",
      "False\n",
      "False\n"
     ]
    }
   ],
   "source": [
    "def is_isogram(s):\n",
    "    s_l = s.lower()\n",
    "    for i in range(len(s_l)):\n",
    "        if s_l.count(s_l[i]) > 1:\n",
    "            return print(False)\n",
    "    return print(True)\n",
    "\n",
    "is_isogram(\"Algorism\") \n",
    "is_isogram(\"PasSword\") \n",
    "is_isogram(\"Consecutive\") "
   ]
  },
  {
   "cell_type": "markdown",
   "id": "37a30444",
   "metadata": {},
   "source": [
    "# 5.Create a function that takes a string and returns True or False, depending on whether the characters are in order or not."
   ]
  },
  {
   "cell_type": "code",
   "execution_count": 21,
   "id": "2fb0ef8a",
   "metadata": {},
   "outputs": [
    {
     "name": "stdout",
     "output_type": "stream",
     "text": [
      "True\n",
      "False\n",
      "True\n",
      "True\n"
     ]
    }
   ],
   "source": [
    "def is_in_order(s):\n",
    "    s_l = list(s)\n",
    "    s_l.sort()\n",
    "    e_s = \"\"\n",
    "    for i in s_l:\n",
    "        e_s = e_s + i\n",
    "    if s == e_s:\n",
    "        return print(True)\n",
    "    else:\n",
    "        return print(False)\n",
    "\n",
    "is_in_order(\"abc\") \n",
    "is_in_order(\"edabit\") \n",
    "is_in_order(\"123\") \n",
    "is_in_order(\"xyzz\") "
   ]
  }
 ],
 "metadata": {
  "kernelspec": {
   "display_name": "Python 3",
   "language": "python",
   "name": "python3"
  },
  "language_info": {
   "codemirror_mode": {
    "name": "ipython",
    "version": 3
   },
   "file_extension": ".py",
   "mimetype": "text/x-python",
   "name": "python",
   "nbconvert_exporter": "python",
   "pygments_lexer": "ipython3",
   "version": "3.8.8"
  }
 },
 "nbformat": 4,
 "nbformat_minor": 5
}
