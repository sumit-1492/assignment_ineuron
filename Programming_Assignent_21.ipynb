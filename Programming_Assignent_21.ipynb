{
 "cells": [
  {
   "cell_type": "markdown",
   "id": "3be59811",
   "metadata": {},
   "source": [
    "# 1.Write a function that takes a list and a number as arguments. Add the number to the end of the list, then remove the first element of the list. The function should then return the updated list"
   ]
  },
  {
   "cell_type": "code",
   "execution_count": 1,
   "id": "f45303cb",
   "metadata": {},
   "outputs": [
    {
     "name": "stdout",
     "output_type": "stream",
     "text": [
      "[6, 7, 8, 9, 1]\n",
      "[6, 3, 23, 17, 10]\n",
      "[10, 20, 42, 6]\n",
      "No list has been selected\n"
     ]
    }
   ],
   "source": [
    "def next_in_line(l,n):\n",
    "    if len(l) == 0:\n",
    "        return print(\"No list has been selected\")\n",
    "    elif len(l)>0:\n",
    "        l.append(n)\n",
    "        l.remove(l[0])\n",
    "    return print(l)\n",
    "\n",
    "next_in_line([5, 6, 7, 8, 9], 1) \n",
    "next_in_line([7, 6, 3, 23, 17], 10) \n",
    "next_in_line([1, 10, 20, 42 ], 6) \n",
    "next_in_line([], 6) "
   ]
  },
  {
   "cell_type": "markdown",
   "id": "b3131839",
   "metadata": {},
   "source": [
    "# 2.Create the function that takes a list of dictionaries and returns the sum of people's budgets."
   ]
  },
  {
   "cell_type": "code",
   "execution_count": 11,
   "id": "81205153",
   "metadata": {},
   "outputs": [
    {
     "name": "stdout",
     "output_type": "stream",
     "text": [
      "65700\n",
      "62600\n"
     ]
    }
   ],
   "source": [
    "def get_budgets(l):\n",
    "    value = 0\n",
    "    for i in l:\n",
    "        if type(i)==dict:\n",
    "            e_l = list(i.keys())\n",
    "            if \"budget\" in e_l:\n",
    "                value = value + i['budget']\n",
    "            else:\n",
    "                return print(\"Please check the spellling of budget\")\n",
    "        else:\n",
    "            return print(\"Please carefully read the instructions\")\n",
    "    return print(value)\n",
    "\n",
    "get_budgets([\n",
    "  { \"name\": \"John\", \"age\": 21, \"budget\": 23000 },\n",
    "  { \"name\": \"Steve\",  \"age\": 32, \"budget\": 40000 },\n",
    "  { \"name\": \"Martin\",  \"age\": 16, \"budget\": 2700 }\n",
    "]) \n",
    "get_budgets([\n",
    "  { \"name\": \"John\",  \"age\": 21, \"budget\": 29000 },\n",
    "  { \"name\": \"Steve\",  \"age\": 32, \"budget\": 32000 },\n",
    "  { \"name\": \"Martin\",  \"age\": 16, \"budget\": 1600 }\n",
    "])"
   ]
  },
  {
   "cell_type": "markdown",
   "id": "a7016ef9",
   "metadata": {},
   "source": [
    "# 3.Create a function that takes a string and returns a string with its letters in alphabetical order."
   ]
  },
  {
   "cell_type": "code",
   "execution_count": 14,
   "id": "af5df0cb",
   "metadata": {},
   "outputs": [
    {
     "name": "stdout",
     "output_type": "stream",
     "text": [
      "ehllo\n",
      "abdeit\n",
      "acehkr\n",
      "eegk\n",
      "aacijprstv\n"
     ]
    }
   ],
   "source": [
    "def alphabet_soup(s):\n",
    "    l= list(s)\n",
    "    e_s = \"\"\n",
    "    l.sort()\n",
    "    for i in l:\n",
    "        e_s = e_s + i\n",
    "    return print(e_s)\n",
    "\n",
    "alphabet_soup(\"hello\") \n",
    "alphabet_soup(\"edabit\") \n",
    "alphabet_soup(\"hacker\") \n",
    "alphabet_soup(\"geek\") \n",
    "alphabet_soup(\"javascript\") "
   ]
  },
  {
   "cell_type": "markdown",
   "id": "4d1d128d",
   "metadata": {},
   "source": [
    "# 5.Write a function that takes a list of elements and returns only the integers."
   ]
  },
  {
   "cell_type": "code",
   "execution_count": 18,
   "id": "f03826a2",
   "metadata": {},
   "outputs": [
    {
     "name": "stdout",
     "output_type": "stream",
     "text": [
      "[9, 2, 16]\n",
      "[81, 123]\n",
      "[10, 56, 20, 3]\n",
      "[1]\n"
     ]
    }
   ],
   "source": [
    "def return_only_integer(l):\n",
    "    count = 0\n",
    "    for i in l:\n",
    "        if type(i) == int:\n",
    "            count = count + 1\n",
    "    if count>=1:\n",
    "        for j in range(len(l)-count):\n",
    "            for k in l:\n",
    "                if type(k) != int:\n",
    "                    l.remove(k)\n",
    "    return print(l)\n",
    "            \n",
    "return_only_integer([9, 2, \"space\", \"car\", \"lion\", 16]) \n",
    "return_only_integer([\"hello\", 81, \"basketball\", 123, \"fox\"]) \n",
    "return_only_integer([10, \"121\", 56, 20, \"car\", 3, \"lion\"])\n",
    "return_only_integer([\"String\",  True,  3.3,  1])\n",
    "          "
   ]
  }
 ],
 "metadata": {
  "kernelspec": {
   "display_name": "Python 3",
   "language": "python",
   "name": "python3"
  },
  "language_info": {
   "codemirror_mode": {
    "name": "ipython",
    "version": 3
   },
   "file_extension": ".py",
   "mimetype": "text/x-python",
   "name": "python",
   "nbconvert_exporter": "python",
   "pygments_lexer": "ipython3",
   "version": "3.8.8"
  }
 },
 "nbformat": 4,
 "nbformat_minor": 5
}
