{
 "cells": [
  {
   "cell_type": "markdown",
   "id": "5f9ea401",
   "metadata": {},
   "source": [
    "# 1.Create a function that takes a string and returns a string in which each character is repeated once."
   ]
  },
  {
   "cell_type": "code",
   "execution_count": 4,
   "id": "673072ff",
   "metadata": {},
   "outputs": [
    {
     "name": "stdout",
     "output_type": "stream",
     "text": [
      "SSttrriinngg\n",
      "HHeelllloo  WWoorrlldd!!\n",
      "11223344!!__  \n"
     ]
    }
   ],
   "source": [
    "def double_char(s):\n",
    "    s_e = ''\n",
    "    for i in s:\n",
    "        s_e = s_e + (2*i)\n",
    "    return s_e\n",
    "print(double_char(\"String\"))\n",
    "print(double_char(\"Hello World!\"))\n",
    "print(double_char(\"1234!_ \"))"
   ]
  },
  {
   "cell_type": "markdown",
   "id": "3a0a838a",
   "metadata": {},
   "source": [
    "# 2.Create a function that reverses a boolean value and returns the string \"boolean expected\" if another variable type is given."
   ]
  },
  {
   "cell_type": "code",
   "execution_count": 8,
   "id": "9ba76fcf",
   "metadata": {},
   "outputs": [
    {
     "name": "stdout",
     "output_type": "stream",
     "text": [
      "False\n",
      "True\n",
      "boolean expected\n",
      "boolean expected\n"
     ]
    }
   ],
   "source": [
    "def reverse(a):\n",
    "    if type(a) == bool:\n",
    "        if a == True:\n",
    "            return False\n",
    "        else:\n",
    "            return True\n",
    "    else:\n",
    "        return \"boolean expected\"\n",
    "\n",
    "print(reverse(True))\n",
    "print(reverse(False))\n",
    "print(reverse(0))\n",
    "print(reverse(None))"
   ]
  },
  {
   "cell_type": "markdown",
   "id": "8b78123f",
   "metadata": {},
   "source": [
    "# 3.Create a function that returns the thickness (in meters) of a piece of paper after folding it n number of times. The paper starts off with a thickness of 0.5mm."
   ]
  },
  {
   "cell_type": "code",
   "execution_count": 16,
   "id": "bb537e60",
   "metadata": {},
   "outputs": [
    {
     "name": "stdout",
     "output_type": "stream",
     "text": [
      "Enter number of layers:31\n",
      "Thickness of Paper after folded 31 times is: 1073741.824m\n"
     ]
    }
   ],
   "source": [
    "def num_layers(a):\n",
    "    t = 0.0005\n",
    "    for i in range(a):\n",
    "        t = t*2\n",
    "    return str(t)+\"m\"\n",
    "a = int(input(\"Enter number of layers:\"))\n",
    "print(\"Thickness of Paper after folded\",a,\"times is:\" ,num_layers(a))"
   ]
  },
  {
   "cell_type": "markdown",
   "id": "76e56952",
   "metadata": {},
   "source": [
    "# 4.Create a function that takes a single string as argument and returns an ordered list containing the indices of all capital letters in the string."
   ]
  },
  {
   "cell_type": "code",
   "execution_count": 19,
   "id": "60c0e835",
   "metadata": {},
   "outputs": [
    {
     "name": "stdout",
     "output_type": "stream",
     "text": [
      "[1, 3, 5]\n",
      "[1, 3, 4, 6]\n",
      "[]\n",
      "[0, 1, 2, 3, 4, 5]\n",
      "[1]\n"
     ]
    }
   ],
   "source": [
    "def index_of_caps(a):\n",
    "    e_l=[]\n",
    "    for i in a:\n",
    "        if i.islower() == False:\n",
    "            e_l.append(a.index(i))\n",
    "    return print(e_l)\n",
    "index_of_caps(\"eDaBiT\")\n",
    "index_of_caps(\"eQuINoX\")\n",
    "index_of_caps(\"determine\") \n",
    "index_of_caps(\"STRIKE\")\n",
    "index_of_caps(\"sUn\") "
   ]
  },
  {
   "cell_type": "markdown",
   "id": "6d360814",
   "metadata": {},
   "source": [
    "# 5.Using list comprehensions, create a function that finds all even numbers from 1 to the given number."
   ]
  },
  {
   "cell_type": "code",
   "execution_count": 23,
   "id": "327ac2a4",
   "metadata": {},
   "outputs": [
    {
     "name": "stdout",
     "output_type": "stream",
     "text": [
      "[2, 4, 6, 8]\n",
      "[2, 4]\n",
      "[2]\n"
     ]
    }
   ],
   "source": [
    "def find_even_nums(n):\n",
    "    e_l =[]\n",
    "    for i in range(1,n+1):\n",
    "        if i%2 == 0:\n",
    "            e_l.append(i)\n",
    "    return print(e_l)\n",
    "find_even_nums(8)\n",
    "find_even_nums(4)\n",
    "find_even_nums(2)"
   ]
  }
 ],
 "metadata": {
  "kernelspec": {
   "display_name": "Python 3",
   "language": "python",
   "name": "python3"
  },
  "language_info": {
   "codemirror_mode": {
    "name": "ipython",
    "version": 3
   },
   "file_extension": ".py",
   "mimetype": "text/x-python",
   "name": "python",
   "nbconvert_exporter": "python",
   "pygments_lexer": "ipython3",
   "version": "3.8.8"
  }
 },
 "nbformat": 4,
 "nbformat_minor": 5
}
