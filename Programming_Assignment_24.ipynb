{
 "cells": [
  {
   "cell_type": "markdown",
   "id": "6b290663",
   "metadata": {},
   "source": [
    "# 1.Create a function that takes an integer and returns a list from 1 to the given number, where:\n",
    "# If the number can be divided evenly by 4, amplify it by 10 (i.e. return 10 times the number).\n",
    "# If the number cannot be divided evenly by 4, simply return the number.\n"
   ]
  },
  {
   "cell_type": "code",
   "execution_count": 5,
   "id": "0915ab39",
   "metadata": {},
   "outputs": [
    {
     "name": "stdout",
     "output_type": "stream",
     "text": [
      "[1, 2, 3, 40]\n",
      "[1, 2, 3]\n",
      "[1, 2, 3, 4, 5, 6, 7, 8, 9, 10, 11, 12, 13, 14, 15, 16, 17, 18, 19, 20, 21, 22, 23, 24, 25]\n"
     ]
    }
   ],
   "source": [
    "def amplify(num):\n",
    "    if num > 1:\n",
    "        l = []\n",
    "        if num%4 == 0:\n",
    "            for i in range(1,num):\n",
    "                l.append(i)\n",
    "            l.append(num*10)\n",
    "        else:\n",
    "            for i in range(1,num+1):\n",
    "                l.append(i)\n",
    "    else:\n",
    "        return print(\"Please give a number greater than 1\")\n",
    "    return print(l)\n",
    "\n",
    "amplify(4) \n",
    "amplify(3) \n",
    "amplify(25) "
   ]
  },
  {
   "cell_type": "markdown",
   "id": "55e69407",
   "metadata": {},
   "source": [
    "# 2.Create a function that takes a list of numbers and return the number that's unique."
   ]
  },
  {
   "cell_type": "code",
   "execution_count": 7,
   "id": "40da2461",
   "metadata": {},
   "outputs": [
    {
     "name": "stdout",
     "output_type": "stream",
     "text": [
      "7\n",
      "0.77\n",
      "0\n"
     ]
    }
   ],
   "source": [
    "def unique(l):\n",
    "    for i in l:\n",
    "        if l.count(i) == 1:\n",
    "            return print(i)\n",
    "        \n",
    "unique([3, 3, 3, 7, 3, 3]) \n",
    "unique([0, 0, 0.77, 0, 0]) \n",
    "unique([0, 1, 1, 1, 1, 1, 1, 1]) \n"
   ]
  },
  {
   "cell_type": "markdown",
   "id": "73df3e7e",
   "metadata": {},
   "source": [
    "# 3.Your task is to create a Circle constructor that creates a circle with a radius provided by an argument. The circles constructed must have two getters getArea() (PIr^2) and getPerimeter() (2PI*r) which give both respective areas and perimeter (circumference)."
   ]
  },
  {
   "cell_type": "code",
   "execution_count": 12,
   "id": "28f44c02",
   "metadata": {},
   "outputs": [
    {
     "name": "stdout",
     "output_type": "stream",
     "text": [
      "Area is: 380.182\n",
      "Perimeter is: 27.90096\n"
     ]
    }
   ],
   "source": [
    "class Circle():\n",
    "    def __init__(self,r):\n",
    "        self.r = r\n",
    "    def getArea(self):\n",
    "        return print(\"Area is:\",(3.142*(self.r **2)))\n",
    "    def getPerimeter(self):\n",
    "        return print(\"Perimeter is:\",(2 * 3.142 * self.r))\n",
    "\n",
    "circy = Circle(11)\n",
    "circy.getArea()\n",
    "circy1 = Circle(4.44)\n",
    "circy1.getPerimeter()"
   ]
  },
  {
   "cell_type": "markdown",
   "id": "88145269",
   "metadata": {},
   "source": [
    "# 4.Create a function that takes a list of strings and return a list, sorted from shortest to longest"
   ]
  },
  {
   "cell_type": "code",
   "execution_count": 51,
   "id": "0e947ce9",
   "metadata": {},
   "outputs": [
    {
     "name": "stdout",
     "output_type": "stream",
     "text": [
      "['Apple', 'Google', 'Microsoft']\n",
      "['Raphael', 'Leonardo', 'Donatello', 'Michelangelo']\n",
      "['Jung', 'Turing', 'Einstein']\n"
     ]
    }
   ],
   "source": [
    "def sort_by_length(l):\n",
    "    di = {}\n",
    "    for i in l:\n",
    "        d = {i:len(i)}\n",
    "        di.update(d)\n",
    "    l = list(di.values())\n",
    "    l.sort()\n",
    "    e_l = []\n",
    "    for val in l:\n",
    "        for key, value in di.items():\n",
    "             if value == val:\n",
    "                    e_l.append(key)\n",
    "    return print(e_l)\n",
    "        \n",
    "sort_by_length([\"Google\", \"Apple\", \"Microsoft\"])\n",
    "sort_by_length([\"Leonardo\", \"Michelangelo\", \"Raphael\", \"Donatello\"])\n",
    "sort_by_length([\"Turing\", \"Einstein\", \"Jung\"])"
   ]
  },
  {
   "cell_type": "markdown",
   "id": "6036f35b",
   "metadata": {},
   "source": [
    "# 5.Create a function that validates whether three given integers form a Pythagorean triplet. The sum of the squares of the two smallest integers must equal the square of the largest number to be validated."
   ]
  },
  {
   "cell_type": "code",
   "execution_count": 55,
   "id": "90878ebb",
   "metadata": {},
   "outputs": [
    {
     "name": "stdout",
     "output_type": "stream",
     "text": [
      "True\n",
      "True\n",
      "False\n"
     ]
    }
   ],
   "source": [
    "def is_triplet(a,b,c):\n",
    "    l =[a,b,c]\n",
    "    l.sort()\n",
    "    if (l[0]**2 + l[1]**2) == l[2]**2:\n",
    "        return print(True)\n",
    "    else:\n",
    "        return print(False)\n",
    "    \n",
    "is_triplet(3, 4, 5)\n",
    "is_triplet(13, 5, 12)\n",
    "is_triplet(1, 2, 3) "
   ]
  }
 ],
 "metadata": {
  "kernelspec": {
   "display_name": "Python 3",
   "language": "python",
   "name": "python3"
  },
  "language_info": {
   "codemirror_mode": {
    "name": "ipython",
    "version": 3
   },
   "file_extension": ".py",
   "mimetype": "text/x-python",
   "name": "python",
   "nbconvert_exporter": "python",
   "pygments_lexer": "ipython3",
   "version": "3.8.8"
  }
 },
 "nbformat": 4,
 "nbformat_minor": 5
}
