{
 "cells": [
  {
   "cell_type": "markdown",
   "metadata": {},
   "source": [
    "# 1.\tWrite a Python Program to Find LCM?"
   ]
  },
  {
   "cell_type": "code",
   "execution_count": 74,
   "metadata": {},
   "outputs": [
    {
     "name": "stdout",
     "output_type": "stream",
     "text": [
      "Enter the numbers and give comma in between them : 12,16,18,19\n",
      "[12, 16, 18, 19]\n",
      "The lcm of given number is : 2736\n"
     ]
    }
   ],
   "source": [
    "def lcm(x, y):\n",
    "    if(x>y):\n",
    "        num = x\n",
    "        den = y\n",
    "    else:\n",
    "        num = y\n",
    "        den = x\n",
    "        \n",
    "    rem = num % den\n",
    "    while(rem != 0):\n",
    "        num = den\n",
    "        den = rem\n",
    "        rem = num % den\n",
    "    hcf = den\n",
    "    lcm = int(int(x * y)/int(hcf))\n",
    "    return lcm\n",
    "        \n",
    "try:\n",
    "    f = list(map(int,input(\"Enter the numbers and give comma in between them : \").split(\",\")))\n",
    "    f.sort()\n",
    "    print(f)\n",
    "    g = f\n",
    "    n1 = g[0]\n",
    "    n2 = g[1] \n",
    "    LCM = lcm(n1,n2)\n",
    "    for i in range(2,len(g)):\n",
    "        LCM = lcm(LCM,g[i])\n",
    "\n",
    "    print(\"The lcm of given number is :\" , LCM)\n",
    "    \n",
    "except Exception as e:\n",
    "        print(\"Error:\",e,\"\\nPlease read the input carefully\")"
   ]
  },
  {
   "cell_type": "markdown",
   "metadata": {},
   "source": [
    "# 2.\tWrite a Python Program to Find HCF?"
   ]
  },
  {
   "cell_type": "code",
   "execution_count": 75,
   "metadata": {},
   "outputs": [
    {
     "name": "stdout",
     "output_type": "stream",
     "text": [
      "Enter the numbers and give comma in between them : 12,16,18,19\n",
      "[12, 16, 18, 19]\n",
      "The hcf of given number is : 1\n"
     ]
    }
   ],
   "source": [
    "def hcf(x,y):\n",
    "    try:\n",
    "        if x>y :\n",
    "            if y == 0:\n",
    "                return x\n",
    "            else:\n",
    "                return hcf(y,x%y)\n",
    "        elif x<y:\n",
    "            if x == 0:\n",
    "                return y\n",
    "            else:\n",
    "                return hcf(x,y%x)\n",
    "    except Exception as e:\n",
    "        print(\"Error:\",e)\n",
    "        \n",
    "try:\n",
    "    f = list(map(int,input(\"Enter the numbers and give comma in between them : \").split(\",\")))\n",
    "    f.sort()\n",
    "    print(f)\n",
    "    g = f\n",
    "    n1 = g[0]\n",
    "    n2 = g[1] \n",
    "    HCF = hcf(n1,n2)\n",
    "    for i in range(2,len(g)):\n",
    "        HCF = hcf(HCF,g[i])\n",
    "\n",
    "    print(\"The hcf of given number is :\" , HCF)\n",
    "\n",
    "except Exception as e:\n",
    "        print(\"Error:\",e,\"\\nPlease read the input carefully\")"
   ]
  },
  {
   "cell_type": "markdown",
   "metadata": {},
   "source": [
    "# 3.\tWrite a Python Program to Convert Decimal to Binary, Octal and Hexadecimal?"
   ]
  },
  {
   "cell_type": "code",
   "execution_count": 17,
   "metadata": {},
   "outputs": [
    {
     "name": "stdout",
     "output_type": "stream",
     "text": [
      "Convert to (binary,octal,hexadecimal), choose one : octal\n",
      "Enter a number:35632\n",
      "4454 0\n",
      "556 6\n",
      "69 4\n",
      "8 5\n",
      "1 0\n",
      "Binary of 35632 is : 105460\n"
     ]
    }
   ],
   "source": [
    "def c_bi():\n",
    "    try:\n",
    "        num = int(input(\"Enter a number:\"))\n",
    "        x = num\n",
    "        l = []\n",
    "        while(num//2 != 0):\n",
    "            temp = num//2\n",
    "            rem  = num % 2\n",
    "            l.append(rem)\n",
    "            num = temp\n",
    "            print(num,rem)\n",
    "\n",
    "        l.reverse()\n",
    "        l.insert(0,num)\n",
    "        s=\"\"\n",
    "        for i in range(0,len(l)):\n",
    "            s = s + str(l[i])\n",
    "\n",
    "        bi = int(s)\n",
    "        return print(\"Binary of\",x,\"is :\",bi)\n",
    "    except Exception as e:\n",
    "        print(\"Error: \",e)\n",
    "\n",
    "def c_o():\n",
    "    try:\n",
    "        num = int(input(\"Enter a number:\"))\n",
    "        x = num\n",
    "        l = []\n",
    "        while(num//8 != 0):\n",
    "            temp = num//8\n",
    "            rem  = num % 8\n",
    "            l.append(rem)\n",
    "            num = temp\n",
    "            print(num,rem)\n",
    "\n",
    "        l.reverse()\n",
    "        l.insert(0,num)\n",
    "        s=\"\"\n",
    "        for i in range(0,len(l)):\n",
    "            s = s + str(l[i])\n",
    "\n",
    "        oc = int(s)\n",
    "        return print(\"Binary of\",x,\"is :\",oc)\n",
    "    except Exception as e:\n",
    "        print(\"Error: \",e)\n",
    "\n",
    "def c_hexa():\n",
    "    try:\n",
    "        num = int(input(\"enter a number:\"))\n",
    "        x = num\n",
    "        l = []\n",
    "        while(num//16 != 0):\n",
    "            temp = num//16\n",
    "            rem  = num % 16\n",
    "            if rem == 10:\n",
    "                l.append(\"A\")\n",
    "            elif rem == 11:\n",
    "                l.append(\"B\")\n",
    "            elif rem == 12:\n",
    "                l.append(\"C\")\n",
    "            elif rem == 13:\n",
    "                l.append(\"D\")\n",
    "            elif rem == 14:\n",
    "                l.append(\"E\")\n",
    "            elif rem == 15:\n",
    "                l.append(\"F\")\n",
    "            else:\n",
    "                l.append(rem)\n",
    "            num = temp\n",
    "            print(num,rem)\n",
    "\n",
    "        l.reverse()\n",
    "        l.insert(0,num)\n",
    "        s=\"\"\n",
    "        for i in range(0,len(l)):\n",
    "            s = s + str(l[i])\n",
    "\n",
    "        hexa = s\n",
    "        return print(\"Hexadecimal of\",x,\"is :\",hexa)\n",
    "    except Exception as e:\n",
    "        print(\"Error: \",e)\n",
    "\n",
    "convert_to = input(\"Convert to (binary,octal,hexadecimal), choose one : \")\n",
    "\n",
    "if convert_to == \"binary\":\n",
    "    c_bi()\n",
    "elif convert_to == \"octal\":\n",
    "    c_o()\n",
    "elif convert_to == \"hexadecimal\":\n",
    "    c_hexa()\n",
    "else:\n",
    "    print(\"Please carefully read the input instrucction\")"
   ]
  },
  {
   "cell_type": "markdown",
   "metadata": {},
   "source": [
    "# 4.\tWrite a Python Program To Find ASCII value of a character?"
   ]
  },
  {
   "cell_type": "code",
   "execution_count": 2,
   "metadata": {},
   "outputs": [
    {
     "name": "stdout",
     "output_type": "stream",
     "text": [
      "Enter any character : A\n",
      "The ASCII value of A is:  65\n"
     ]
    }
   ],
   "source": [
    "ch = input(\"Enter any character : \")\n",
    "print(\"The ASCII value of\",ch,\"is: \",ord(ch))"
   ]
  },
  {
   "cell_type": "markdown",
   "metadata": {},
   "source": [
    "# 5.\tWrite a Python Program to Make a Simple Calculator with 4 basic mathematical operations?"
   ]
  },
  {
   "cell_type": "code",
   "execution_count": 16,
   "metadata": {},
   "outputs": [
    {
     "name": "stdout",
     "output_type": "stream",
     "text": [
      "Please enter first number : 15\n",
      "Please enter second number : 17\n",
      "Choose any one (+,-,*,/) : *\n",
      "multiplication is 15.0 , 17.0 is: 255.0\n"
     ]
    }
   ],
   "source": [
    "def add(a,b):\n",
    "    return print(\"Addition of\",a,\",\",b,\"is:\",a+b)\n",
    "def sub(a,b):\n",
    "    return print(\"Substraction is\",a,\",\",b,\"is:\",a-b)\n",
    "def mul(a,b):\n",
    "    return print(\"Multiplication is\",a,\",\",b,\"is:\",a*b)\n",
    "def div(a,b):\n",
    "    return print(\"Division is\",a,\",\",b,\"is:\",a/b)\n",
    "\n",
    "n1 = float(input(\"Please enter first number : \"))\n",
    "n2 = float(input(\"Please enter second number : \"))\n",
    "\n",
    "choice = str(input(\"Choose any one (+,-,*,/) : \"))\n",
    "\n",
    "if choice == \"+\":\n",
    "    add(n1,n2)\n",
    "elif choice == \"-\":\n",
    "    sub(n1,n2)\n",
    "elif choice == \"*\":\n",
    "    mul(n1,n2)\n",
    "elif choice == \"/\":\n",
    "    div(n1,n2)\n",
    "else:\n",
    "    print(\"Please make a right choice\")"
   ]
  }
 ],
 "metadata": {
  "kernelspec": {
   "display_name": "Python 3",
   "language": "python",
   "name": "python3"
  },
  "language_info": {
   "codemirror_mode": {
    "name": "ipython",
    "version": 3
   },
   "file_extension": ".py",
   "mimetype": "text/x-python",
   "name": "python",
   "nbconvert_exporter": "python",
   "pygments_lexer": "ipython3",
   "version": "3.8.5"
  }
 },
 "nbformat": 4,
 "nbformat_minor": 4
}
