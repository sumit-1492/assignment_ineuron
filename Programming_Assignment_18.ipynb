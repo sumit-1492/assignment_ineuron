{
 "cells": [
  {
   "cell_type": "markdown",
   "id": "1b1ec704",
   "metadata": {},
   "source": [
    "# 1.Create a function that takes a list of non-negative integers and strings and return a new list without the strings."
   ]
  },
  {
   "cell_type": "code",
   "execution_count": 18,
   "id": "20b77e9c",
   "metadata": {},
   "outputs": [
    {
     "name": "stdout",
     "output_type": "stream",
     "text": [
      "Strings removed from list: [1, 2]\n",
      "Strings removed from list: [1, 0, 15]\n",
      "Strings removed from list: [1, 2, 123]\n"
     ]
    }
   ],
   "source": [
    "def filter_list(a):\n",
    "    if type(a) == list:\n",
    "        count = 0\n",
    "        for i in a:\n",
    "            if type(i) == str:\n",
    "                count = count + 1\n",
    "        if count>=1:\n",
    "            for j in range(count):\n",
    "                for k in a:\n",
    "                    if type(k) == str:\n",
    "                        a.remove(k)                \n",
    "    else:\n",
    "        return print(\"Please provide list\")\n",
    "    return print(\"Strings removed from list:\" , a)\n",
    "\n",
    "filter_list([1, 2, \"a\" ,\"b\"])\n",
    "filter_list([1, \"a\", \"b\", 0, 15])\n",
    "filter_list([1, 2, \"aasf\", \"1\", \"123\", 123])"
   ]
  },
  {
   "cell_type": "markdown",
   "id": "f0f6abb6",
   "metadata": {},
   "source": [
    "# 2.The \"Reverser\" takes a string as input and returns that string in reverse order, with the opposite case."
   ]
  },
  {
   "cell_type": "code",
   "execution_count": 22,
   "id": "3bffb956",
   "metadata": {},
   "outputs": [
    {
     "name": "stdout",
     "output_type": "stream",
     "text": [
      "Required output is : DLROw OLLEh\n",
      "Required output is : eSrEvEr\n",
      "Required output is : RADAr\n"
     ]
    }
   ],
   "source": [
    "def reverse(a):\n",
    "    b = a.swapcase()\n",
    "    b_l = list(b)\n",
    "    b_l.reverse()\n",
    "    s_1 = \"\"\n",
    "    for i in b_l:\n",
    "        s_1 = s_1 + i\n",
    "    return print(\"Required output is :\",s_1)\n",
    "reverse(\"Hello World\")\n",
    "reverse(\"ReVeRsE\")\n",
    "reverse(\"Radar\") "
   ]
  },
  {
   "cell_type": "markdown",
   "id": "17549b00",
   "metadata": {},
   "source": [
    "# 3.Your task is to unpack the list writeyourcodehere into three variables, being first, middle, and last, with middle being everything in between the first and last element. Then print all three variables."
   ]
  },
  {
   "cell_type": "code",
   "execution_count": 24,
   "id": "06c39e6f",
   "metadata": {},
   "outputs": [
    {
     "name": "stdout",
     "output_type": "stream",
     "text": [
      "1\n",
      "[2, 3, 4, 5]\n",
      "6\n"
     ]
    }
   ],
   "source": [
    "lst = [1, 2, 3, 4, 5, 6]\n",
    "first = lst[0]\n",
    "middle = lst[1:-1]\n",
    "last = lst[-1]\n",
    "\n",
    "print(first) \n",
    "print(middle) \n",
    "print(last) \n"
   ]
  },
  {
   "cell_type": "markdown",
   "id": "5a2cd938",
   "metadata": {},
   "source": [
    "# 4.Write a function that calculates the factorial of a number recursively."
   ]
  },
  {
   "cell_type": "code",
   "execution_count": 31,
   "id": "e559fa07",
   "metadata": {},
   "outputs": [
    {
     "name": "stdout",
     "output_type": "stream",
     "text": [
      "120\n",
      "6\n",
      "1\n",
      "1\n"
     ]
    }
   ],
   "source": [
    "def factorial(a):\n",
    "    if a==0:\n",
    "        return 1\n",
    "    elif a==1:\n",
    "        return 1\n",
    "    elif a>1:\n",
    "        return a*factorial(a-1)\n",
    "\n",
    "print(factorial(5))\n",
    "print(factorial(3))\n",
    "print(factorial(1))\n",
    "print(factorial(0))"
   ]
  },
  {
   "cell_type": "markdown",
   "id": "fdd7108a",
   "metadata": {},
   "source": [
    "# 5.Write a function that moves all elements of one type to the end of the list."
   ]
  },
  {
   "cell_type": "code",
   "execution_count": 36,
   "id": "13f37be5",
   "metadata": {},
   "outputs": [
    {
     "name": "stdout",
     "output_type": "stream",
     "text": [
      "[3, 2, 4, 4, 1, 1]\n",
      "[7, 8, 1, 2, 3, 4, 9]\n",
      "['b', 'a', 'a', 'a']\n"
     ]
    }
   ],
   "source": [
    "def move_to_end(a,b):\n",
    "    if type(a)==list:\n",
    "        c = a.count(b)\n",
    "    if c>=1:\n",
    "        for i in range(c):\n",
    "            a.remove(b)\n",
    "    a_e = []\n",
    "    for i in range(c):\n",
    "        a_e.append(b)\n",
    "    return a + a_e\n",
    "\n",
    "print(move_to_end([1, 3, 2, 4, 4, 1], 1))\n",
    "print(move_to_end([7, 8, 9, 1, 2, 3, 4], 9))\n",
    "print(move_to_end([\"a\", \"a\", \"a\", \"b\"], \"a\")) "
   ]
  }
 ],
 "metadata": {
  "kernelspec": {
   "display_name": "Python 3",
   "language": "python",
   "name": "python3"
  },
  "language_info": {
   "codemirror_mode": {
    "name": "ipython",
    "version": 3
   },
   "file_extension": ".py",
   "mimetype": "text/x-python",
   "name": "python",
   "nbconvert_exporter": "python",
   "pygments_lexer": "ipython3",
   "version": "3.8.8"
  }
 },
 "nbformat": 4,
 "nbformat_minor": 5
}
