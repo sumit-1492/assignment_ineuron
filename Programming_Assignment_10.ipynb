{
 "cells": [
  {
   "cell_type": "markdown",
   "metadata": {},
   "source": [
    "# 1.\tWrite a Python program to find sum of elements in list?\n"
   ]
  },
  {
   "cell_type": "code",
   "execution_count": 8,
   "metadata": {},
   "outputs": [
    {
     "name": "stdout",
     "output_type": "stream",
     "text": [
      "Enter the list:1,2,3,4\n",
      "list is: [1.0, 2.0, 3.0, 4.0]\n",
      "sum of list is: 10.0\n"
     ]
    }
   ],
   "source": [
    "try:\n",
    "    l = list(map(float,input(\"Enter the list:\").split(\",\")))\n",
    "    print(\"list is:\",l)\n",
    "    sum = 0\n",
    "    for i in range(len(l)):\n",
    "        sum = sum+l[i]\n",
    "    print(\"sum of list is:\",sum)\n",
    "except Exception as e:\n",
    "    print(\"Error:\",e)"
   ]
  },
  {
   "cell_type": "markdown",
   "metadata": {},
   "source": [
    "# 2.\tWrite a Python program to  Multiply all numbers in the list?\n"
   ]
  },
  {
   "cell_type": "code",
   "execution_count": 9,
   "metadata": {},
   "outputs": [
    {
     "name": "stdout",
     "output_type": "stream",
     "text": [
      "Enter the list:1,2,3,4\n",
      "list is: [1.0, 2.0, 3.0, 4.0]\n",
      "sum of list is: 24.0\n"
     ]
    }
   ],
   "source": [
    "try:\n",
    "    l = list(map(float,input(\"Enter the list:\").split(\",\")))\n",
    "    print(\"list is:\",l)\n",
    "    mul = 1\n",
    "    for i in range(len(l)):\n",
    "        mul = mul*l[i]\n",
    "    print(\"sum of list is:\",mul)\n",
    "except Exception as e:\n",
    "    print(\"Error:\",e)"
   ]
  },
  {
   "cell_type": "markdown",
   "metadata": {},
   "source": [
    "# 3.\tWrite a Python program to find smallest number in a list?"
   ]
  },
  {
   "cell_type": "code",
   "execution_count": 10,
   "metadata": {},
   "outputs": [
    {
     "name": "stdout",
     "output_type": "stream",
     "text": [
      "Enter the list:1,2,3,4\n",
      "list is: [1.0, 2.0, 3.0, 4.0]\n",
      "smallest number of the list is: 1.0\n"
     ]
    }
   ],
   "source": [
    "try:\n",
    "    l = list(map(float,input(\"Enter the list:\").split(\",\")))\n",
    "    print(\"list is:\",l)\n",
    "    s = min(l)\n",
    "    print(\"smallest number of the list is:\",s)\n",
    "except Exception as e:\n",
    "    print(\"Error:\",e)"
   ]
  },
  {
   "cell_type": "markdown",
   "metadata": {},
   "source": [
    "# 4.\tWrite a Python program to find largest number in a list?\n"
   ]
  },
  {
   "cell_type": "code",
   "execution_count": 12,
   "metadata": {},
   "outputs": [
    {
     "name": "stdout",
     "output_type": "stream",
     "text": [
      "Enter the list:1,2,45,67,-900,800\n",
      "list is: [1.0, 2.0, 45.0, 67.0, -900.0, 800.0]\n",
      "smallest number of the list is: 800.0\n"
     ]
    }
   ],
   "source": [
    "try:\n",
    "    l = list(map(float,input(\"Enter the list:\").split(\",\")))\n",
    "    print(\"list is:\",l)\n",
    "    lar = max(l)\n",
    "    print(\"smallest number of the list is:\",lar)\n",
    "except Exception as e:\n",
    "    print(\"Error:\",e)"
   ]
  },
  {
   "cell_type": "markdown",
   "metadata": {},
   "source": [
    "# 5.\tWrite a Python program to find second largest number in a list?\n"
   ]
  },
  {
   "cell_type": "code",
   "execution_count": 14,
   "metadata": {},
   "outputs": [
    {
     "name": "stdout",
     "output_type": "stream",
     "text": [
      "Enter the list:-1,-2,-3,-7,-9\n",
      "list is: [-1.0, -2.0, -3.0, -7.0, -9.0]\n",
      "second largest number of the list is: -2.0\n"
     ]
    }
   ],
   "source": [
    "try:\n",
    "    l = list(map(float,input(\"Enter the list:\").split(\",\")))\n",
    "    print(\"list is:\",l)\n",
    "    lar = max(l)\n",
    "    l.remove(lar)\n",
    "    second_lar = max(l)\n",
    "    print(\"second largest number of the list is:\",second_lar)\n",
    "except Exception as e:\n",
    "    print(\"Error:\",e)"
   ]
  },
  {
   "cell_type": "markdown",
   "metadata": {},
   "source": [
    "# 6.\tWrite a Python program to find N largest elements from a list?\n"
   ]
  },
  {
   "cell_type": "code",
   "execution_count": 38,
   "metadata": {},
   "outputs": [
    {
     "name": "stdout",
     "output_type": "stream",
     "text": [
      "Enter the list: 1,2,3,6.8,3,5.9,3,3,4,5,9,9.7,9,9.5\n",
      "list without occurance is:  [1.0, 2.0, 3.0, 6.8, 5.9, 4.0, 5.0, 9.0, 9.7, 9.5]\n",
      "list after sort and reverse is:  [9.7, 9.5, 9.0, 6.8, 5.9, 5.0, 4.0, 3.0, 2.0, 1.0]\n",
      "Enter how many unique largest number you want from list:3\n",
      "largest number 1 is: 9.7\n",
      "largest number 2 is: 9.5\n",
      "largest number 3 is: 9.0\n"
     ]
    }
   ],
   "source": [
    "try:\n",
    "    l = list(map(float,input(\"Enter the list: \").split(\",\")))\n",
    "    r = []\n",
    "    for i in l:\n",
    "        if i not in r:\n",
    "            r.append(i)\n",
    "    print(\"list without occurance is: \",r)\n",
    "    r.sort()\n",
    "    r.reverse()\n",
    "    print(\"list after sort and reverse is: \",r)\n",
    "\n",
    "    n = int(input(\"Enter how many unique largest number you want from list:\"))\n",
    "    if n<len(r):\n",
    "        for i in range(n):\n",
    "            print(\"largest number\",i+1,\"is:\",r[i])\n",
    "    else:\n",
    "        print(\"please recheck the unique largest number you want from lis\")\n",
    "except Exception as e:\n",
    "    print(\"Error:\",e)"
   ]
  },
  {
   "cell_type": "markdown",
   "metadata": {},
   "source": [
    "# 7.\tWrite a Python program to print even numbers in a list?\n"
   ]
  },
  {
   "cell_type": "code",
   "execution_count": 19,
   "metadata": {},
   "outputs": [
    {
     "name": "stdout",
     "output_type": "stream",
     "text": [
      "Enter the list:1,2,3,4\n",
      "list is: [1.0, 2.0, 3.0, 4.0]\n",
      "List of even number is: [2.0, 4.0]\n"
     ]
    }
   ],
   "source": [
    "try:\n",
    "    l = list(map(float, input(\"Enter the list:\").split(\",\")))\n",
    "    print(\"list is:\", l)\n",
    "    e_l = []\n",
    "    for i in range(len(l)):\n",
    "        rem = l[i] % 2\n",
    "        if rem == 0:\n",
    "            e_l.append(l[i])\n",
    "    if len(e_l) > 0:\n",
    "            print(\"List of even number is:\",e_l)\n",
    "    elif len(e_l) == 0:\n",
    "        print(\"No evn numbers in the list\")\n",
    "\n",
    "except Exception as e:\n",
    "    print(\"Error:\", e)"
   ]
  },
  {
   "cell_type": "markdown",
   "metadata": {},
   "source": [
    "# 8.\tWrite a Python program to print odd numbers in a List?\n"
   ]
  },
  {
   "cell_type": "code",
   "execution_count": 24,
   "metadata": {},
   "outputs": [
    {
     "name": "stdout",
     "output_type": "stream",
     "text": [
      "Enter the list:1,2,-3,-5,6,9\n",
      "list is: [1.0, 2.0, -3.0, -5.0, 6.0, 9.0]\n",
      "List of odd number is: [1.0, -3.0, -5.0, 9.0]\n"
     ]
    }
   ],
   "source": [
    "try:\n",
    "    l = list(map(float, input(\"Enter the list:\").split(\",\")))\n",
    "    print(\"list is:\", l)\n",
    "    o_l = []\n",
    "    for i in range(len(l)):\n",
    "        rem = l[i] % 2\n",
    "        if rem == 1:\n",
    "            o_l.append(l[i])\n",
    "    if len(o_l) > 0:\n",
    "            print(\"List of odd number is:\",o_l)\n",
    "    elif len(o_l) == 0:\n",
    "        print(\"No odd numbers in the list\")\n",
    "\n",
    "except Exception as e:\n",
    "    print(\"Error:\", e)"
   ]
  },
  {
   "cell_type": "markdown",
   "metadata": {},
   "source": [
    "# 9.\tWrite a Python program to Remove empty List from List?\n"
   ]
  },
  {
   "cell_type": "code",
   "execution_count": 32,
   "metadata": {},
   "outputs": [
    {
     "name": "stdout",
     "output_type": "stream",
     "text": [
      "Intial list is: [1, 2, [], 3, [4, 5, 6], []]\n",
      "final list is: [1, 2, 3, [4, 5, 6]]\n"
     ]
    }
   ],
   "source": [
    "def el(s):\n",
    "    for i in range(s):\n",
    "        if l[i]==[]:\n",
    "            l.remove([])\n",
    "            s = len(l)\n",
    "            return el(s)\n",
    "\n",
    "\n",
    "l = [1,2,[],3,[4, 5, 6],[]]\n",
    "print(\"Intial list is:\",l)\n",
    "s = len(l)\n",
    "el(s)\n",
    "print(\"final list is:\",l)"
   ]
  },
  {
   "cell_type": "markdown",
   "metadata": {},
   "source": [
    "# 10.\tWrite a Python program to Cloning or Copying a list?\n"
   ]
  },
  {
   "cell_type": "code",
   "execution_count": 25,
   "metadata": {},
   "outputs": [
    {
     "name": "stdout",
     "output_type": "stream",
     "text": [
      "Enter the list:sumit,1,23,kumar\n",
      "list is: ['sumit', '1', '23', 'kumar']\n",
      "copied list is: ['sumit', '1', '23', 'kumar']\n"
     ]
    }
   ],
   "source": [
    "try:\n",
    "    l = list(map(str,input(\"Enter the list:\").split(\",\")))\n",
    "    print(\"list is:\",l)\n",
    "    p = l.copy()\n",
    "    print(\"copied list is:\",p)\n",
    "except Exception as e:\n",
    "    print(\"Error:\",e)"
   ]
  },
  {
   "cell_type": "markdown",
   "metadata": {},
   "source": [
    "# 11.\tWrite a Python program to Count occurrences of an element in a list?"
   ]
  },
  {
   "cell_type": "code",
   "execution_count": 31,
   "metadata": {},
   "outputs": [
    {
     "name": "stdout",
     "output_type": "stream",
     "text": [
      "Enter the list:1,2,3,3,3,2,2,7,8,5,6,6,6,8,8,5,5,5,1,1\n",
      "Initial list is: [1, 2, 3, 3, 3, 2, 2, 7, 8, 5, 6, 6, 6, 8, 8, 5, 5, 5, 1, 1]\n",
      "count of 1 is 3\n",
      "count of 2 is 3\n",
      "count of 3 is 3\n",
      "count of 7 is 1\n",
      "count of 8 is 3\n",
      "count of 5 is 4\n",
      "count of 6 is 3\n"
     ]
    }
   ],
   "source": [
    "def occurance_list(s):\n",
    "    for i in range(s):\n",
    "        count = 0\n",
    "        for j in range(s):\n",
    "             if l[i] == l[j]:\n",
    "                num = l[j]\n",
    "                count = count+1\n",
    "                temp = count\n",
    "        print(\"count of\", l[i], \"is\", count)\n",
    "        if temp>=1:\n",
    "            while temp!=0:\n",
    "                l.remove(num)\n",
    "                temp = temp -1\n",
    "                s = len(l)\n",
    "        return occurance_list(s)\n",
    "\n",
    "\n",
    "l = list(map(int, input(\"Enter the list:\").split(\",\")))\n",
    "print(\"Initial list is:\",l)\n",
    "m = len(l)\n",
    "occurance_list(m)"
   ]
  },
  {
   "cell_type": "code",
   "execution_count": null,
   "metadata": {},
   "outputs": [],
   "source": []
  }
 ],
 "metadata": {
  "kernelspec": {
   "display_name": "Python 3",
   "language": "python",
   "name": "python3"
  },
  "language_info": {
   "codemirror_mode": {
    "name": "ipython",
    "version": 3
   },
   "file_extension": ".py",
   "mimetype": "text/x-python",
   "name": "python",
   "nbconvert_exporter": "python",
   "pygments_lexer": "ipython3",
   "version": "3.8.5"
  }
 },
 "nbformat": 4,
 "nbformat_minor": 4
}
