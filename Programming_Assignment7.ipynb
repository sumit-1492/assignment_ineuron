{
 "cells": [
  {
   "cell_type": "markdown",
   "metadata": {},
   "source": [
    "# 1.\tWrite a Python Program to find sum of array?\n"
   ]
  },
  {
   "cell_type": "code",
   "execution_count": 10,
   "metadata": {},
   "outputs": [
    {
     "name": "stdout",
     "output_type": "stream",
     "text": [
      "Enter the array:1,5.9,6.7\n",
      "array is: [1.0, 5.9, 6.7]\n",
      "sum of the elements of the array is :  13.600000000000001\n"
     ]
    }
   ],
   "source": [
    "arr =list(map(float,input(\"Enter the array:\").split(\",\"))) #one dimensional array\n",
    "print(\"array is:\",arr)\n",
    "print(\"sum of the elements of the array is : \",sum(arr))"
   ]
  },
  {
   "cell_type": "markdown",
   "metadata": {},
   "source": [
    "# 2.\tWrite a Python Program to find largest element in an array?\n"
   ]
  },
  {
   "cell_type": "code",
   "execution_count": 11,
   "metadata": {},
   "outputs": [
    {
     "name": "stdout",
     "output_type": "stream",
     "text": [
      "Enter the array:23,56,78\n",
      "array is: [23.0, 56.0, 78.0]\n",
      "Maximum of the elements of the array is :  78.0\n"
     ]
    }
   ],
   "source": [
    "arr =list(map(float,input(\"Enter the array:\").split(\",\"))) #one dimensional array\n",
    "print(\"array is:\",arr)\n",
    "print(\"Maximum of the elements of the array is : \",max(arr))"
   ]
  },
  {
   "cell_type": "markdown",
   "metadata": {},
   "source": [
    "# 3.\tWrite a Python Program for array rotation?\n"
   ]
  },
  {
   "cell_type": "code",
   "execution_count": 22,
   "metadata": {},
   "outputs": [
    {
     "name": "stdout",
     "output_type": "stream",
     "text": [
      "Enter the array:1,2,3,4,5,6,7\n",
      "Enter the point from where you want to rotate:3\n",
      "Given array is: [1, 2, 3, 4, 5, 6, 7]\n",
      "Rotated array is: [4, 5, 6, 7, 1, 2, 3]\n"
     ]
    }
   ],
   "source": [
    "arr =list(map(int,input(\"Enter the array:\").split(\",\")))\n",
    "d = int(input(\"Enter the point from where you want to rotate:\"))\n",
    "\n",
    "i = 0\n",
    "temp = arr[0:d]\n",
    "print(\"Given array is:\",arr)\n",
    "while i<len(arr)-d:\n",
    "    arr[i] = arr[i+d]\n",
    "    i= i+1\n",
    "    \n",
    "j=1\n",
    "while j<=len(temp):\n",
    "    arr.pop()\n",
    "    j = j+1\n",
    "    \n",
    "arr = arr+temp\n",
    "print(\"Rotated array is:\",arr)"
   ]
  },
  {
   "cell_type": "markdown",
   "metadata": {},
   "source": [
    "# 4.\tWrite a Python Program to Split the array and add the first part to the end?\n"
   ]
  },
  {
   "cell_type": "code",
   "execution_count": 23,
   "metadata": {},
   "outputs": [
    {
     "name": "stdout",
     "output_type": "stream",
     "text": [
      "Enter the array:12,45,78,90,87,56,34\n",
      "Enter the point from where you want to split:3\n",
      "Given array is: [12, 45, 78, 90, 87, 56, 34]\n",
      "So new  array is: [90, 87, 56, 34, 12, 45, 78]\n"
     ]
    }
   ],
   "source": [
    "arr =list(map(int,input(\"Enter the array:\").split(\",\")))\n",
    "d = int(input(\"Enter the point from where you want to split:\"))\n",
    "\n",
    "i = 0\n",
    "temp = arr[0:d]\n",
    "print(\"Given array is:\",arr)\n",
    "while i<len(arr)-d:\n",
    "    arr[i] = arr[i+d]\n",
    "    i= i+1\n",
    "    \n",
    "j=1\n",
    "while j<=len(temp):\n",
    "    arr.pop()\n",
    "    j = j+1\n",
    "    \n",
    "arr = arr+temp\n",
    "print(\"So new  array is:\",arr)"
   ]
  },
  {
   "cell_type": "markdown",
   "metadata": {},
   "source": [
    "# 5.\tWrite a Python Program to check if given array is Monotonic?"
   ]
  },
  {
   "cell_type": "code",
   "execution_count": 30,
   "metadata": {},
   "outputs": [
    {
     "name": "stdout",
     "output_type": "stream",
     "text": [
      "Enter the array:1,5,3,8,9,2\n",
      "Nonmonotonic\n"
     ]
    }
   ],
   "source": [
    "arr =list(map(int,input(\"Enter the array:\").split(\",\")))\n",
    "if (all(arr[i]>arr[i+1] for i in range(0,len(arr)-1))) or (all(arr[i]<arr[i+1] for i in range(0,len(arr)-1))):\n",
    "    print(\"Montonic\")\n",
    "else:\n",
    "    print(\"Nonmonotonic\")\n"
   ]
  }
 ],
 "metadata": {
  "kernelspec": {
   "display_name": "Python 3",
   "language": "python",
   "name": "python3"
  },
  "language_info": {
   "codemirror_mode": {
    "name": "ipython",
    "version": 3
   },
   "file_extension": ".py",
   "mimetype": "text/x-python",
   "name": "python",
   "nbconvert_exporter": "python",
   "pygments_lexer": "ipython3",
   "version": "3.8.5"
  }
 },
 "nbformat": 4,
 "nbformat_minor": 4
}
