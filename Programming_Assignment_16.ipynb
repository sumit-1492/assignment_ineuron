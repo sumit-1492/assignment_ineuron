{
 "cells": [
  {
   "cell_type": "markdown",
   "id": "f07ad414",
   "metadata": {},
   "source": [
    "# 1.Write a function that stutters a word as if someone is struggling to read it. The first two letters are repeated twice with an ellipsis ... and space after each, and then the word is pronounced with a question mark ?."
   ]
  },
  {
   "cell_type": "code",
   "execution_count": 1,
   "id": "76d1200a",
   "metadata": {},
   "outputs": [
    {
     "name": "stdout",
     "output_type": "stream",
     "text": [
      "Enter a word as per your wish:incredible\n",
      "in...in...incredible?\n"
     ]
    }
   ],
   "source": [
    "def stutter(w):\n",
    "    s = w[:2]\n",
    "    return print(2 * (s + \"...\") + w +\"?\")\n",
    "word = str(input(\"Enter a word as per your wish:\"))\n",
    "stutter(word)"
   ]
  },
  {
   "cell_type": "markdown",
   "id": "3acd2f8d",
   "metadata": {},
   "source": [
    "# 2.Create a function that takes an angle in radians and returns the corresponding angle in degrees rounded to one decimal place"
   ]
  },
  {
   "cell_type": "code",
   "execution_count": 7,
   "id": "8fada294",
   "metadata": {},
   "outputs": [
    {
     "name": "stdout",
     "output_type": "stream",
     "text": [
      "Enter an angle in radians:1.570\n"
     ]
    },
    {
     "data": {
      "text/plain": [
       "89.9"
      ]
     },
     "execution_count": 7,
     "metadata": {},
     "output_type": "execute_result"
    }
   ],
   "source": [
    "def rad_to_deg(ang):\n",
    "    degree = ang * (180/3.142)\n",
    "    return round(degree , 1)\n",
    "angle = float(input(\"Enter an angle in radians:\"))\n",
    "rad_to_deg(angle)"
   ]
  },
  {
   "cell_type": "markdown",
   "id": "531f67c8",
   "metadata": {},
   "source": [
    "# 3.In this challenge, establish if a given integer num is a Curzon number. If 1 plus 2 elevated to num is exactly divisible by 1 plus 2 multiplied by num, then num is a Curzon number.Given a non-negative integer num, implement a function that returns True if num is a Curzon number, or False otherwise\n"
   ]
  },
  {
   "cell_type": "code",
   "execution_count": 12,
   "id": "231c507e",
   "metadata": {},
   "outputs": [
    {
     "name": "stdout",
     "output_type": "stream",
     "text": [
      "Enter a number:-5\n",
      "Please give a positive number\n"
     ]
    }
   ],
   "source": [
    "def curzon(num):\n",
    "    step_1 = 2 ** num + 1\n",
    "    step_2 = 2 * num + 1\n",
    "    if step_1%step_2 == 0:\n",
    "        return print(\"Given number\", num ,\"is a Curzon number.\" , True)\n",
    "    else:\n",
    "        return print(\"Given number\", num ,\" is not a Curzon number.\" , False)\n",
    "    \n",
    "number = int(input(\"Enter a number:\"))\n",
    "if number > 0:\n",
    "    curzon(number)\n",
    "else:\n",
    "    print(\"Please give a positive number\")"
   ]
  },
  {
   "cell_type": "markdown",
   "id": "e6ba018b",
   "metadata": {},
   "source": [
    "# 4.Given the side length x find the area of a hexagon."
   ]
  },
  {
   "cell_type": "code",
   "execution_count": 19,
   "id": "35169fe5",
   "metadata": {},
   "outputs": [
    {
     "name": "stdout",
     "output_type": "stream",
     "text": [
      "Area of hexagon whose side is 1 is :  2.6\n",
      "Area of hexagon whose side is 2 is :  10.4\n",
      "Area of hexagon whose side is 3 is :  23.4\n"
     ]
    }
   ],
   "source": [
    "def area_hexagon(side):\n",
    "    area = 3 * (3 ** 0.5) * 0.5 * (side ** 2)\n",
    "    return print(\"Area of hexagon whose side is\",side, \"is : \",round(area,1))\n",
    "area_hexagon(1)\n",
    "area_hexagon(2)\n",
    "area_hexagon(3)"
   ]
  },
  {
   "cell_type": "markdown",
   "id": "556aec4c",
   "metadata": {},
   "source": [
    "# 5.Create a function that returns a base-2 (binary) representation of a base-10 (decimal) string number. To convert is simple: ((2) means base-2 and (10) means base-10) 010101001(2) = 1 + 8 + 32 + 128.\n",
    "# Going from right to left, the value of the most right bit is 1, now from that every bit to the left will be x2 the value, value of an 8 bit binary numbers are (256, 128, 64, 32, 16, 8, 4, 2, 1).\n"
   ]
  },
  {
   "cell_type": "code",
   "execution_count": 26,
   "id": "ca58e315",
   "metadata": {},
   "outputs": [
    {
     "name": "stdout",
     "output_type": "stream",
     "text": [
      "Enter a binary number:1101\n",
      "Decimal value of given binary number is: 13\n"
     ]
    }
   ],
   "source": [
    "def binary_to_decimal(binary_num):\n",
    "    binary_num_to_string = str(binary_num)\n",
    "    binary_num_to_string_to_list = list(binary_num_to_string)\n",
    "    binary_num_to_string_to_list.reverse()\n",
    "    value = 0\n",
    "    for i in range(len(binary_num_to_string_to_list)):\n",
    "        if binary_num_to_string_to_list[i] == '1' or binary_num_to_string_to_list[i] == '0':\n",
    "            value = value + int(binary_num_to_string_to_list[i]) * (2**i)\n",
    "        else:\n",
    "            return print(\"Not a binary number\")\n",
    "    return print(\"Decimal value of given binary number is:\",value)\n",
    "\n",
    "number = int(input(\"Enter a binary number:\"))\n",
    "binary_to_decimal(number)"
   ]
  }
 ],
 "metadata": {
  "kernelspec": {
   "display_name": "Python 3",
   "language": "python",
   "name": "python3"
  },
  "language_info": {
   "codemirror_mode": {
    "name": "ipython",
    "version": 3
   },
   "file_extension": ".py",
   "mimetype": "text/x-python",
   "name": "python",
   "nbconvert_exporter": "python",
   "pygments_lexer": "ipython3",
   "version": "3.8.8"
  }
 },
 "nbformat": 4,
 "nbformat_minor": 5
}
