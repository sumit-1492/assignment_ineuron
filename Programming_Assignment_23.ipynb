{
 "cells": [
  {
   "cell_type": "markdown",
   "id": "405e9afa",
   "metadata": {},
   "source": [
    "# 1.Create a function that takes a number as an argument and returns True or False depending on whether the number is symmetrical or not. A number is symmetrical when it is the same as its reverse."
   ]
  },
  {
   "cell_type": "code",
   "execution_count": 2,
   "id": "22c9eab2",
   "metadata": {},
   "outputs": [
    {
     "name": "stdout",
     "output_type": "stream",
     "text": [
      "True\n",
      "False\n",
      "True\n",
      "False\n",
      "True\n"
     ]
    }
   ],
   "source": [
    "def is_symmetrical(num):\n",
    "    a = str(num)\n",
    "    a_l = list(a)\n",
    "    a_l.reverse()\n",
    "    e_s = \"\"\n",
    "    for i in a_l:\n",
    "        e_s = e_s + i\n",
    "    if a == e_s:\n",
    "        return print(True)\n",
    "    else:\n",
    "        return print(False)\n",
    "    \n",
    "is_symmetrical(7227) \n",
    "is_symmetrical(12567) \n",
    "is_symmetrical(44444444) \n",
    "is_symmetrical(9939) \n",
    "is_symmetrical(1112111) "
   ]
  },
  {
   "cell_type": "markdown",
   "id": "11f29339",
   "metadata": {},
   "source": [
    "# 2.Given a string of numbers separated by a comma and space, return the product of the numbers."
   ]
  },
  {
   "cell_type": "code",
   "execution_count": 8,
   "id": "6d9be49d",
   "metadata": {},
   "outputs": [
    {
     "name": "stdout",
     "output_type": "stream",
     "text": [
      "6\n",
      "24\n",
      "0\n",
      "-20\n"
     ]
    }
   ],
   "source": [
    "def multiply_nums(s):\n",
    "    a = s.split(',')\n",
    "    mul = 1\n",
    "    for i in a:\n",
    "        mul = mul * int(i)\n",
    "    return print(mul)\n",
    "\n",
    "multiply_nums(\"2, 3\") \n",
    "multiply_nums(\"1, 2, 3, 4\") \n",
    "multiply_nums(\"54, 75, 453, 0\") \n",
    "multiply_nums(\"10, -2\") "
   ]
  },
  {
   "cell_type": "markdown",
   "id": "7979cc10",
   "metadata": {},
   "source": [
    "# 3.Create a function that squares every digit of a number."
   ]
  },
  {
   "cell_type": "code",
   "execution_count": 10,
   "id": "2c2fd47c",
   "metadata": {},
   "outputs": [
    {
     "name": "stdout",
     "output_type": "stream",
     "text": [
      "811181\n",
      "416649\n",
      "9414\n"
     ]
    }
   ],
   "source": [
    "def square_digits(num):\n",
    "    s_num = str(num)\n",
    "    s_list = list(s_num)\n",
    "    e_s = \" \"\n",
    "    \n",
    "    for i in s_list:\n",
    "        ss = int(i)*int(i)\n",
    "        e_s = e_s + str(ss)\n",
    "        \n",
    "    return print(int(e_s))\n",
    "\n",
    "square_digits(9119) \n",
    "square_digits(2483) \n",
    "square_digits(3212)    "
   ]
  },
  {
   "cell_type": "markdown",
   "id": "852c39e0",
   "metadata": {},
   "source": [
    "# 4.Create a function that sorts a list and removes all duplicate items from it."
   ]
  },
  {
   "cell_type": "code",
   "execution_count": 12,
   "id": "ec701ac4",
   "metadata": {},
   "outputs": [
    {
     "name": "stdout",
     "output_type": "stream",
     "text": [
      "[1, 3, 5]\n",
      "[4]\n",
      "[5, 7, 8, 9, 10, 15]\n",
      "[1, 2, 3]\n"
     ]
    }
   ],
   "source": [
    "def setify(l):\n",
    "    l.sort()\n",
    "    for i in l:\n",
    "        c = l.count(i)\n",
    "        if c > 1:\n",
    "            for j in range(c-1):\n",
    "                l.remove(i)\n",
    "    return print(l)\n",
    "\n",
    "setify([1, 3, 3, 5, 5]) \n",
    "setify([4, 4, 4, 4]) \n",
    "setify([5, 7, 8, 9, 10, 15]) \n",
    "setify([3, 3, 3, 2, 1]) "
   ]
  },
  {
   "cell_type": "markdown",
   "id": "2e86e6b9",
   "metadata": {},
   "source": [
    "# 5.Create a function that returns the mean of all digits."
   ]
  },
  {
   "cell_type": "code",
   "execution_count": 15,
   "id": "d72d81fc",
   "metadata": {},
   "outputs": [
    {
     "name": "stdout",
     "output_type": "stream",
     "text": [
      "3\n",
      "3\n",
      "6\n"
     ]
    }
   ],
   "source": [
    "def mean(num):\n",
    "    s = str(num)\n",
    "    m = len(s)\n",
    "    count = 0\n",
    "    s_l = list(s)\n",
    "    for i in s_l:\n",
    "        count = count + int(i)\n",
    "    return print(int(count/m))\n",
    "\n",
    "mean(42) \n",
    "mean(12345) \n",
    "mean(666) "
   ]
  }
 ],
 "metadata": {
  "kernelspec": {
   "display_name": "Python 3",
   "language": "python",
   "name": "python3"
  },
  "language_info": {
   "codemirror_mode": {
    "name": "ipython",
    "version": 3
   },
   "file_extension": ".py",
   "mimetype": "text/x-python",
   "name": "python",
   "nbconvert_exporter": "python",
   "pygments_lexer": "ipython3",
   "version": "3.8.8"
  }
 },
 "nbformat": 4,
 "nbformat_minor": 5
}
