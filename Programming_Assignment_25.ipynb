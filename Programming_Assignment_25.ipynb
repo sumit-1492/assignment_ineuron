{
 "cells": [
  {
   "cell_type": "markdown",
   "id": "7ab0e3b3",
   "metadata": {},
   "source": [
    "# 1.Create a function that takes three integer arguments (a, b, c) and returns the amount of integers which are of equal value"
   ]
  },
  {
   "cell_type": "code",
   "execution_count": 2,
   "id": "508c02bb",
   "metadata": {},
   "outputs": [
    {
     "name": "stdout",
     "output_type": "stream",
     "text": [
      "2\n",
      "3\n",
      "0\n"
     ]
    }
   ],
   "source": [
    "def equal(a,b,c):\n",
    "    l = [a,b,c]\n",
    "    c_a = l.count(a)\n",
    "    c_b = l.count(b)\n",
    "    c_c = l.count(c)\n",
    "    if c_a==c_b==c_c==1:\n",
    "        return print(0)\n",
    "    elif c_a == 2 or c_b == 2 or c_c == 2:\n",
    "        return print(2)\n",
    "    elif c_a == 3 or c_b == 3 or c_c == 3:\n",
    "        return print(3)\n",
    "    \n",
    "equal(3, 4, 3) \n",
    "equal(1, 1, 1) \n",
    "equal(3, 4, 1)  "
   ]
  },
  {
   "cell_type": "markdown",
   "id": "bf459704",
   "metadata": {},
   "source": [
    "# 2.Write a function that converts a dictionary into a list of keys-values tuples."
   ]
  },
  {
   "cell_type": "code",
   "execution_count": 7,
   "id": "e27565a5",
   "metadata": {},
   "outputs": [
    {
     "name": "stdout",
     "output_type": "stream",
     "text": [
      "[('B', 2), ('C', 3), ('D', 1)]\n",
      "[('dislikes', 3), ('followers', 10), ('likes', 2)]\n"
     ]
    }
   ],
   "source": [
    "def dict_to_list(d):\n",
    "    l =list(d.items())\n",
    "    l.sort()\n",
    "    return print(l)\n",
    "\n",
    "dict_to_list({\n",
    "  \"D\": 1,\n",
    "  \"B\": 2,\n",
    "  \"C\": 3\n",
    "}) \n",
    "dict_to_list({\n",
    "  \"likes\": 2,\n",
    "  \"dislikes\": 3,\n",
    "  \"followers\": 10\n",
    "})\n"
   ]
  },
  {
   "cell_type": "markdown",
   "id": "8857bf3f",
   "metadata": {},
   "source": [
    "# 3.Write a function that creates a dictionary with each (key, value) pair being the (lower case, upper case) versions of a letter, respectively"
   ]
  },
  {
   "cell_type": "code",
   "execution_count": 13,
   "id": "28ceabf6",
   "metadata": {},
   "outputs": [
    {
     "name": "stdout",
     "output_type": "stream",
     "text": [
      "{'p': 'P', 's': 'S'}\n",
      "{'a': 'A', 'b': 'B', 'c': 'C'}\n",
      "{'a': 'A', 'v': 'V', 'y': 'Y', 'z': 'Z'}\n"
     ]
    }
   ],
   "source": [
    "def mapping(l):\n",
    "    d ={}\n",
    "    for letter in l:\n",
    "        di = {letter:letter.upper()}\n",
    "        d.update(di)\n",
    "    return print(d)\n",
    "mapping([\"p\", \"s\"]) \n",
    "mapping([\"a\", \"b\", \"c\"]) \n",
    "mapping([\"a\", \"v\", \"y\", \"z\"])"
   ]
  },
  {
   "cell_type": "markdown",
   "id": "964ea608",
   "metadata": {},
   "source": [
    "# 4.Write a function, that replaces all vowels in a string with a specified vowel."
   ]
  },
  {
   "cell_type": "code",
   "execution_count": 21,
   "id": "be5fb772",
   "metadata": {},
   "outputs": [
    {
     "name": "stdout",
     "output_type": "stream",
     "text": [
      " upplus und bununus\n",
      " chooso cossorolo\n",
      " steffed jelepene peppers\n"
     ]
    }
   ],
   "source": [
    "def vow_replace(a,b):\n",
    "    l_v = ['a','e','i','o','u']\n",
    "    l_a = list(a)\n",
    "    for i in l_a:\n",
    "        if i in l_v:\n",
    "            j = l_a.index(i)\n",
    "            l_a[j] = b\n",
    "    e_s = \" \"\n",
    "    for k in l_a:\n",
    "        e_s = e_s + k\n",
    "    return print(e_s)\n",
    "\n",
    "vow_replace(\"apples and bananas\", \"u\")\n",
    "vow_replace(\"cheese casserole\", \"o\")\n",
    "vow_replace(\"stuffed jalapeno poppers\", \"e\") "
   ]
  },
  {
   "cell_type": "markdown",
   "id": "a90709ee",
   "metadata": {},
   "source": [
    "# 5.Create a function that takes a string as input and capitalizes a letter if its ASCII code is even and returns its lower case version if its ASCII code is odd."
   ]
  },
  {
   "cell_type": "code",
   "execution_count": 24,
   "id": "ec247921",
   "metadata": {},
   "outputs": [
    {
     "name": "stdout",
     "output_type": "stream",
     "text": [
      " To Be oR NoT To Be!\n",
      " THe LiTTLe meRmaiD\n",
      " oH wHaT a BeauTiFuL moRNiNg.\n"
     ]
    }
   ],
   "source": [
    "def ascii_capitalize(s):\n",
    "    e_s = \" \"\n",
    "    for i in s:\n",
    "        a_c = ord(i)\n",
    "        if a_c%2 == 0:\n",
    "            e_s = e_s + i.upper()\n",
    "        else:\n",
    "            e_s = e_s + i.lower()\n",
    "    return print(e_s)\n",
    "\n",
    "ascii_capitalize(\"to be or not to be!\") \n",
    "ascii_capitalize(\"THE LITTLE MERMAID\") \n",
    "ascii_capitalize(\"Oh what a beautiful morning.\")  "
   ]
  }
 ],
 "metadata": {
  "kernelspec": {
   "display_name": "Python 3",
   "language": "python",
   "name": "python3"
  },
  "language_info": {
   "codemirror_mode": {
    "name": "ipython",
    "version": 3
   },
   "file_extension": ".py",
   "mimetype": "text/x-python",
   "name": "python",
   "nbconvert_exporter": "python",
   "pygments_lexer": "ipython3",
   "version": "3.8.8"
  }
 },
 "nbformat": 4,
 "nbformat_minor": 5
}
