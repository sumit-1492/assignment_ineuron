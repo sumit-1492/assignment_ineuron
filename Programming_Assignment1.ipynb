{
 "cells": [
  {
   "cell_type": "markdown",
   "metadata": {},
   "source": [
    "# 1.\tWrite a Python program to print \"Hello Python\"?"
   ]
  },
  {
   "cell_type": "code",
   "execution_count": 1,
   "metadata": {},
   "outputs": [
    {
     "name": "stdout",
     "output_type": "stream",
     "text": [
      "Hello Python\n"
     ]
    }
   ],
   "source": [
    "print(\"Hello Python\")"
   ]
  },
  {
   "cell_type": "markdown",
   "metadata": {},
   "source": [
    "# 2.\tWrite a Python program to do arithmetical operations addition and division.?"
   ]
  },
  {
   "cell_type": "code",
   "execution_count": 16,
   "metadata": {},
   "outputs": [
    {
     "name": "stdout",
     "output_type": "stream",
     "text": [
      "Enter the frirst number: 5.5\n",
      "Enter the second number: 1.1\n",
      "Addition is : 6.6\n"
     ]
    }
   ],
   "source": [
    "def add():\n",
    "    a = float(input(\"Enter the frirst number: \"))\n",
    "    b = float(input(\"Enter the second number: \"))\n",
    "    return (print(\"Addition is :\" ,a+b))\n",
    "add()"
   ]
  },
  {
   "cell_type": "code",
   "execution_count": 14,
   "metadata": {},
   "outputs": [
    {
     "name": "stdout",
     "output_type": "stream",
     "text": [
      "Enter the frirst number: 8.9\n",
      "Enter the second number: 6.7\n",
      "divison is : 1.328358208955224\n"
     ]
    }
   ],
   "source": [
    "p = lambda x=float(input(\"Enter the frirst number: \")),y = float(input(\"Enter the second number: \")):print(\"divison is :\" ,x/y)\n",
    "p()"
   ]
  },
  {
   "cell_type": "markdown",
   "metadata": {},
   "source": [
    "# 3.\tWrite a Python program to find the area of a triangle?"
   ]
  },
  {
   "cell_type": "code",
   "execution_count": 22,
   "metadata": {},
   "outputs": [
    {
     "name": "stdout",
     "output_type": "stream",
     "text": [
      "Enter the frirst side: 3\n",
      "Enter the second side: 4\n",
      "Enter the third side:  5\n",
      "Area of the given triangle is:  6.0\n"
     ]
    }
   ],
   "source": [
    "def trianglearea():\n",
    "    try:\n",
    "        a = float(input(\"Enter the frirst side: \"))\n",
    "        b = float(input(\"Enter the second side: \"))\n",
    "        c = float(input(\"Enter the third side:  \"))\n",
    "        s = (a + b + c)/2\n",
    "        area = (s*(s-a)*(s-b)*(s-c))**0.5\n",
    "        return (print(\"Area of the given triangle is: \" , area)) \n",
    "    except Exception as e:\n",
    "        print(\"Please check the input and rerun the code: \" , e)\n",
    "        \n",
    "trianglearea()"
   ]
  },
  {
   "cell_type": "markdown",
   "metadata": {},
   "source": [
    "# 4.\tWrite a Python program to swap two variables?"
   ]
  },
  {
   "cell_type": "code",
   "execution_count": 28,
   "metadata": {},
   "outputs": [
    {
     "name": "stdout",
     "output_type": "stream",
     "text": [
      "7 , 5\n"
     ]
    }
   ],
   "source": [
    "a = 5;\n",
    "b = 7;\n",
    "temp = a;\n",
    "a = b;\n",
    "b = temp;\n",
    "print(a,\",\",b)"
   ]
  },
  {
   "cell_type": "markdown",
   "metadata": {},
   "source": [
    "# 5.\tWrite a Python program to generate a random number?"
   ]
  },
  {
   "cell_type": "code",
   "execution_count": 34,
   "metadata": {},
   "outputs": [
    {
     "name": "stdout",
     "output_type": "stream",
     "text": [
      "0.1422344864438161\n",
      "8\n"
     ]
    }
   ],
   "source": [
    "import random\n",
    "print(random.random())\n",
    "print(random.randint(5,9))"
   ]
  }
 ],
 "metadata": {
  "kernelspec": {
   "display_name": "Python 3",
   "language": "python",
   "name": "python3"
  },
  "language_info": {
   "codemirror_mode": {
    "name": "ipython",
    "version": 3
   },
   "file_extension": ".py",
   "mimetype": "text/x-python",
   "name": "python",
   "nbconvert_exporter": "python",
   "pygments_lexer": "ipython3",
   "version": "3.8.5"
  }
 },
 "nbformat": 4,
 "nbformat_minor": 4
}
