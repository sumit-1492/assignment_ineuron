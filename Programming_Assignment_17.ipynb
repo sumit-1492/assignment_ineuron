{
 "cells": [
  {
   "cell_type": "markdown",
   "id": "bf98075f",
   "metadata": {},
   "source": [
    "# 1.Create a function that takes three arguments a, b, c and returns the sum of the numbers that are evenly divided by c from the range a, b inclusive."
   ]
  },
  {
   "cell_type": "code",
   "execution_count": 5,
   "id": "a6357b8a",
   "metadata": {},
   "outputs": [
    {
     "name": "stdout",
     "output_type": "stream",
     "text": [
      "Enter a number:1\n",
      "Enter a number:10\n",
      "Enter a number:2\n",
      "Total sum of evenly dived numbers between 1 and 10 is: 30\n"
     ]
    }
   ],
   "source": [
    "def f(a, b , c):\n",
    "    value = 0\n",
    "    for i in range(a,b+1):\n",
    "        if a < b and b > c:\n",
    "            if i%c == 0:\n",
    "                value = value + i\n",
    "        else:\n",
    "            return print(\"No value between\",a,\"and\", b ,\" can evenly divided by\",c)\n",
    "    return print(\"Total sum of evenly dived numbers between\",a,\"and\",b,\"is:\", value)\n",
    "\n",
    "\n",
    "a = int(input(\"Enter a number:\"))\n",
    "b = int(input(\"Enter a number:\"))\n",
    "c = int(input(\"Enter a number:\"))\n",
    "if a > 0 and b > 0 and c > 0:\n",
    "    f(a,b,c)\n",
    "else:\n",
    "    print(\"Inputs are not valid\")"
   ]
  },
  {
   "cell_type": "markdown",
   "id": "0b78a75c",
   "metadata": {},
   "source": [
    "# 2.Create a function that returns True if a given inequality expression is correct and False otherwise."
   ]
  },
  {
   "cell_type": "code",
   "execution_count": 11,
   "id": "24c31d70",
   "metadata": {},
   "outputs": [
    {
     "name": "stdout",
     "output_type": "stream",
     "text": [
      "True\n",
      "False\n",
      "True\n"
     ]
    }
   ],
   "source": [
    "def check(s):\n",
    "    regex=eval(s)\n",
    "    if regex:\n",
    "        return True\n",
    "    else:\n",
    "        return False \n",
    "# printing result \n",
    "print(check(\"2 < 7 < 15\"))\n",
    "print(check(\"30 > 45 > 21 > 9\"))\n",
    "print(check(\"4 < 7 < 8< 12 > 2\"))"
   ]
  },
  {
   "cell_type": "markdown",
   "id": "99092b17",
   "metadata": {},
   "source": [
    "# 3.Create a function that replaces all the vowels in a string with a specified character."
   ]
  },
  {
   "cell_type": "code",
   "execution_count": 3,
   "id": "e2ff9c3b",
   "metadata": {},
   "outputs": [
    {
     "name": "stdout",
     "output_type": "stream",
     "text": [
      "The replaced vowel word is: th# ##rdv#rk\n",
      "The replaced vowel word is: m?nn?? m??s?\n",
      "The replaced vowel word is: sh*k*sp**r*\n"
     ]
    }
   ],
   "source": [
    "def replace_vowels(a,b):\n",
    "    l_a = list(a)\n",
    "    for i in range(len(l_a)):\n",
    "        if l_a[i] == 'a':\n",
    "            l_a[i] = b\n",
    "        elif l_a[i] == 'e':\n",
    "            l_a[i] = b\n",
    "        elif l_a[i] == 'i':\n",
    "            l_a[i] = b\n",
    "        elif l_a[i] == 'o':\n",
    "            l_a[i] = b\n",
    "        elif l_a[i] == 'u':\n",
    "            l_a[i] = b\n",
    "    e_st = \"\"\n",
    "    for j in range(len(l_a)):\n",
    "        e_st = e_st + l_a[j]\n",
    "    return print(\"The replaced vowel word is:\",e_st)\n",
    "        \n",
    "replace_vowels(\"the aardvark\", \"#\")\n",
    "replace_vowels(\"minnie mouse\", \"?\") \n",
    "replace_vowels(\"shakespeare\", \"*\")"
   ]
  },
  {
   "cell_type": "markdown",
   "id": "001ef4b6",
   "metadata": {},
   "source": [
    "# 4.Write a function that calculates the factorial of a number recursively"
   ]
  },
  {
   "cell_type": "code",
   "execution_count": 14,
   "id": "0961883c",
   "metadata": {},
   "outputs": [
    {
     "name": "stdout",
     "output_type": "stream",
     "text": [
      "120\n",
      "6\n",
      "1\n",
      "1\n"
     ]
    }
   ],
   "source": [
    "def factorial(a):\n",
    "    if a>= 0:\n",
    "        if a == 0:\n",
    "            return 1\n",
    "        elif a==1:\n",
    "            return 1\n",
    "        elif a>1:\n",
    "            return a*factorial(a-1)\n",
    "    else:\n",
    "        return print(\"Invalid Input\")\n",
    "    \n",
    "print(factorial(5))\n",
    "print(factorial(3))\n",
    "print(factorial(1))\n",
    "print(factorial(0))"
   ]
  },
  {
   "cell_type": "markdown",
   "id": "2ad3c3b2",
   "metadata": {},
   "source": [
    "# 5.Hamming distance is the number of characters that differ between two strings."
   ]
  },
  {
   "cell_type": "code",
   "execution_count": 17,
   "id": "b4385710",
   "metadata": {},
   "outputs": [
    {
     "name": "stdout",
     "output_type": "stream",
     "text": [
      "5\n",
      "0\n",
      "1\n"
     ]
    }
   ],
   "source": [
    "def hamming_distance(a,b):\n",
    "    count = 0\n",
    "    if len(a) == len(b):\n",
    "        for i in range(len(a)):\n",
    "            if a[i] != b[i]:\n",
    "                count = count + 1\n",
    "    return count\n",
    "print(hamming_distance(\"abcde\", \"bcdef\"))\n",
    "print(hamming_distance(\"abcde\", \"abcde\"))\n",
    "print(hamming_distance(\"strong\", \"strung\"))"
   ]
  },
  {
   "cell_type": "code",
   "execution_count": null,
   "id": "d40153cb",
   "metadata": {},
   "outputs": [],
   "source": []
  }
 ],
 "metadata": {
  "kernelspec": {
   "display_name": "Python 3",
   "language": "python",
   "name": "python3"
  },
  "language_info": {
   "codemirror_mode": {
    "name": "ipython",
    "version": 3
   },
   "file_extension": ".py",
   "mimetype": "text/x-python",
   "name": "python",
   "nbconvert_exporter": "python",
   "pygments_lexer": "ipython3",
   "version": "3.8.8"
  }
 },
 "nbformat": 4,
 "nbformat_minor": 5
}
