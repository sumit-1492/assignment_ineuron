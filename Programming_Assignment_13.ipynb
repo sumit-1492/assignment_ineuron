{
 "cells": [
  {
   "cell_type": "markdown",
   "metadata": {},
   "source": [
    "# 1.Write a program that calculates and prints the value according to the given formula:\n",
    "\n",
    "Q = Square root of [(2 * C * D)/H]\n",
    "\n",
    "Following are the fixed values of C and H:\n",
    "\n",
    "C is 50. H is 30.\n",
    "\n",
    "D is the variable whose values should be input to your program in a comma-separated sequence.\n"
   ]
  },
  {
   "cell_type": "code",
   "execution_count": 4,
   "metadata": {},
   "outputs": [
    {
     "name": "stdout",
     "output_type": "stream",
     "text": [
      "Enter the sequence:100,150,180\n",
      "Required output is: 18,22,24\n"
     ]
    }
   ],
   "source": [
    "C = 50\n",
    "H = 30\n",
    "D = list(map(int,input(\"Enter the sequence:\").split(\",\")))\n",
    "Ans = []\n",
    "for i in range(len(D)):\n",
    "    Q = int(((2*C*D[i])/H)**0.5)\n",
    "    Ans.append(Q)\n",
    "\n",
    "st = \"\"\n",
    "for j in range(len(Ans)):\n",
    "    if j<len(Ans)-1:\n",
    "        st = st + str(Ans[j]) + \",\"\n",
    "    else:\n",
    "        st = st + str(Ans[j])\n",
    "print(\"Required output is:\",st)\n"
   ]
  },
  {
   "cell_type": "markdown",
   "metadata": {},
   "source": [
    "# 2. Write a program which takes 2 digits, X,Y as input and generates a 2-dimensional array. The element value in the i-th row and j-th column of the array should be i*j.\n",
    "\n",
    "Note: i=0,1.., X-1; j=0,1,¡¬Y-1.\n"
   ]
  },
  {
   "cell_type": "code",
   "execution_count": 5,
   "metadata": {},
   "outputs": [
    {
     "name": "stdout",
     "output_type": "stream",
     "text": [
      "Please enter the number of rows:3\n",
      "Please enter the number of columns:5\n",
      "[[0, 0, 0, 0, 0], [0, 1, 2, 3, 4], [0, 2, 4, 6, 8]]\n"
     ]
    }
   ],
   "source": [
    "X = int(input(\"Please enter the number of rows:\"))\n",
    "Y = int(input(\"Please enter the number of columns:\"))\n",
    "arr = []\n",
    "for i in range(X):\n",
    "    emp=[]\n",
    "    for j in range(Y):\n",
    "        temp=i*j\n",
    "        emp.append(temp)\n",
    "    arr.append(emp)\n",
    "\n",
    "print(arr)\n"
   ]
  },
  {
   "cell_type": "markdown",
   "metadata": {},
   "source": [
    "# 3.Write a program that accepts a comma separated sequence of words as input and prints the words in a comma-separated sequence after sorting them alphabetically."
   ]
  },
  {
   "cell_type": "code",
   "execution_count": 6,
   "metadata": {},
   "outputs": [
    {
     "name": "stdout",
     "output_type": "stream",
     "text": [
      "Enter the words:without,hello,bag,world\n",
      "Required output is: bag,hello,without,world\n"
     ]
    }
   ],
   "source": [
    "words = list(map(str,input(\"Enter the words:\").split(\",\")))\n",
    "words.sort()\n",
    "st = \"\"\n",
    "for j in range(len(words)):\n",
    "    if j<len(words)-1:\n",
    "        st = st + words[j] + \",\"\n",
    "    else:\n",
    "        st = st + words[j]\n",
    "print(\"Required output is:\",st)"
   ]
  },
  {
   "cell_type": "markdown",
   "metadata": {},
   "source": [
    "# 4.Write a program that accepts a sequence of whitespace separated words as input and prints the words after removing all duplicate words and sorting them alphanumerically."
   ]
  },
  {
   "cell_type": "code",
   "execution_count": 7,
   "metadata": {},
   "outputs": [
    {
     "name": "stdout",
     "output_type": "stream",
     "text": [
      "Enter the words:hello world and practice makes perfect and hello world again\n",
      "Required output is: again and hello makes perfect practice world\n"
     ]
    }
   ],
   "source": [
    "def ans():\n",
    "    for i in range(len(words)):\n",
    "        if words.count(words[i]) > 1:\n",
    "            words.remove(words[i])\n",
    "            return ans()\n",
    "\n",
    "\n",
    "words = list(input(\"Enter the words:\").split(\" \"))\n",
    "ans()\n",
    "words.sort()\n",
    "st = \"\"\n",
    "for j in range(len(words)):\n",
    "    if j < len(words) - 1:\n",
    "        st = st+words[j]+\" \"\n",
    "    else:\n",
    "        st = st + words[j]\n",
    "print(\"Required output is:\",st)"
   ]
  },
  {
   "cell_type": "markdown",
   "metadata": {},
   "source": [
    "# 5.Write a program that accepts a sentence and calculate the number of letters and digits.\n",
    "\n",
    "\n"
   ]
  },
  {
   "cell_type": "code",
   "execution_count": 1,
   "metadata": {},
   "outputs": [
    {
     "name": "stdout",
     "output_type": "stream",
     "text": [
      "Enter the sentence:hello world! 123\n",
      "LETTERS: 10\n",
      "DIGITS: 3\n"
     ]
    }
   ],
   "source": [
    "x = input(\"Enter the sentence:\")\n",
    "j = 0\n",
    "k = 0\n",
    "for char in x:\n",
    "    if ord(char) in range(97,123) or ord(char) in range(65,91): #find ascii character\n",
    "        j = j+1\n",
    "    elif ord(char) in range(48,57):\n",
    "        k = k+1\n",
    "print(\"LETTERS:\",j)\n",
    "print(\"DIGITS:\",k)\n"
   ]
  },
  {
   "cell_type": "markdown",
   "metadata": {},
   "source": [
    "# 6.A website requires the users to input username and password to register. Write a program to check the validity of password input by users."
   ]
  },
  {
   "cell_type": "code",
   "execution_count": 5,
   "metadata": {},
   "outputs": [
    {
     "name": "stdout",
     "output_type": "stream",
     "text": [
      "Enter the username:sumit1492\n",
      "Enter the password:ABd1234@1,a F1#,2w3E*,2We3345\n",
      "Right password from your given input is : ABd1234@1\n",
      "Account created with user name and password\n"
     ]
    }
   ],
   "source": [
    "username = input(\"Enter the username:\")\n",
    "password = input(\"Enter the password:\").split(\",\")\n",
    "n = 0\n",
    "for m in range(len(password)):\n",
    "    i = 0\n",
    "    j = 0\n",
    "    k = 0\n",
    "    p = 0\n",
    "    for char in password[m]:\n",
    "        if ord(char) in range(97,123) : #find ascii character\n",
    "            i = i+1\n",
    "        elif ord(char) in range(65,91):\n",
    "            j = j+1\n",
    "        elif ord(char) in range(48,57):\n",
    "            k = k+1\n",
    "        elif ord(char) == 35 or ord(char) == 36 or ord(char) == 64:\n",
    "            p = p+1\n",
    "    if len(password[m]) in range(6,13) and i >= 1 and j >= 1 and k >= 1 and p >= 1:\n",
    "        print(\"Right password from your given input is :\",password[m])\n",
    "    else:\n",
    "        n = n+1\n",
    "\n",
    "\n",
    "if n < len(password):\n",
    "    print(\"Account created with user name and password\")\n",
    "else:\n",
    "    print(\"Please give appropriate password\")\n"
   ]
  }
 ],
 "metadata": {
  "kernelspec": {
   "display_name": "Python 3",
   "language": "python",
   "name": "python3"
  },
  "language_info": {
   "codemirror_mode": {
    "name": "ipython",
    "version": 3
   },
   "file_extension": ".py",
   "mimetype": "text/x-python",
   "name": "python",
   "nbconvert_exporter": "python",
   "pygments_lexer": "ipython3",
   "version": "3.8.5"
  }
 },
 "nbformat": 4,
 "nbformat_minor": 4
}
