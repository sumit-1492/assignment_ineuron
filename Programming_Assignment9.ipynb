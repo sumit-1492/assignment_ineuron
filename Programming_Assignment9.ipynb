{
 "cells": [
  {
   "cell_type": "markdown",
   "metadata": {},
   "source": [
    "# 1.\tWrite a Python program to check if the given number is a Disarium Number?\n"
   ]
  },
  {
   "cell_type": "code",
   "execution_count": 5,
   "metadata": {},
   "outputs": [
    {
     "name": "stdout",
     "output_type": "stream",
     "text": [
      "Enter the number as per your wish: 135\n",
      "Given num is a disarium number\n"
     ]
    }
   ],
   "source": [
    "'''A disarium number is a number in which the sum of the digits... \n",
    "...to the power of their respective position is equal to the number itself '''\n",
    "\n",
    "num = int(input(\"Enter the number as per your wish: \"))\n",
    "s = str(num)\n",
    "l = list(s)\n",
    "temp = 0;\n",
    "for i in range(len(l)):\n",
    "    temp = temp + (int(l[i])**(i+1))\n",
    "    \n",
    "if temp == num:\n",
    "    print(\"Given num is a disarium number\")\n",
    "else:\n",
    "    print(\"Given num is not a disarium number\")"
   ]
  },
  {
   "cell_type": "markdown",
   "metadata": {},
   "source": [
    "# 2.\tWrite a Python program to print all disarium numbers between 1 to 100?\n",
    "\n"
   ]
  },
  {
   "cell_type": "code",
   "execution_count": 12,
   "metadata": {},
   "outputs": [
    {
     "name": "stdout",
     "output_type": "stream",
     "text": [
      "Disarium number: 1\n",
      "Disarium number: 2\n",
      "Disarium number: 3\n",
      "Disarium number: 4\n",
      "Disarium number: 5\n",
      "Disarium number: 6\n",
      "Disarium number: 7\n",
      "Disarium number: 8\n",
      "Disarium number: 9\n",
      "Disarium number: 89\n"
     ]
    }
   ],
   "source": [
    "for j in range(1,100):\n",
    "    num = j;\n",
    "    #print(num)\n",
    "    s = str(num)\n",
    "    l = list(s)\n",
    "    temp = 0;\n",
    "    for i in range(len(l)):\n",
    "         temp = temp + (int(l[i])**(i+1))\n",
    "    if temp == num:\n",
    "        print(\"Disarium number:\",num)\n"
   ]
  },
  {
   "cell_type": "markdown",
   "metadata": {},
   "source": [
    "# 3.\tWrite a Python program to check if the given number is Happy Number?\n"
   ]
  },
  {
   "cell_type": "code",
   "execution_count": 13,
   "metadata": {},
   "outputs": [
    {
     "name": "stdout",
     "output_type": "stream",
     "text": [
      "10\n",
      "Given num is not a disarium number\n"
     ]
    }
   ],
   "source": [
    "num = 13\n",
    "s = str(num)\n",
    "l = list(s)\n",
    "temp = 0;\n",
    "for i in range(len(l)):\n",
    "    temp = temp + (int(l[i])**2)\n",
    "print(temp)    \n",
    "if temp == num:\n",
    "    print(\"Given num is a disarium number\")\n",
    "else:\n",
    "    print(\"Given num is not a disarium number\")"
   ]
  },
  {
   "cell_type": "markdown",
   "metadata": {},
   "source": [
    "# 4.\tWrite a Python program to print all happy numbers between 1 and 100?\n"
   ]
  },
  {
   "cell_type": "code",
   "execution_count": 19,
   "metadata": {},
   "outputs": [
    {
     "name": "stdout",
     "output_type": "stream",
     "text": [
      "1 is a Happy number\n",
      "10 is a Happy number\n",
      "13 is a Happy number\n",
      "19 is a Happy number\n",
      "23 is a Happy number\n",
      "28 is a Happy number\n",
      "31 is a Happy number\n",
      "32 is a Happy number\n",
      "44 is a Happy number\n",
      "49 is a Happy number\n",
      "68 is a Happy number\n",
      "70 is a Happy number\n",
      "79 is a Happy number\n",
      "82 is a Happy number\n",
      "86 is a Happy number\n",
      "91 is a Happy number\n",
      "94 is a Happy number\n",
      "97 is a Happy number\n"
     ]
    }
   ],
   "source": [
    "def hn(num):\n",
    "    s = str(num)\n",
    "    l = list(s)\n",
    "    if len(l)>1:\n",
    "        temp = 0\n",
    "        for i in range(len(l)):\n",
    "            temp = temp + (int(l[i])**(2))\n",
    "        return hn(temp)\n",
    "    elif len(l)==1 and int(l[0])==1:\n",
    "        print(j,\"is a Happy number\")\n",
    "        \n",
    "        \n",
    "for j in range(1,100):\n",
    "    num = j\n",
    "    hn(j)"
   ]
  },
  {
   "cell_type": "markdown",
   "metadata": {},
   "source": [
    "# 5.\tWrite a Python program to determine whether the given number is a Harshad Number?\n"
   ]
  },
  {
   "cell_type": "code",
   "execution_count": 29,
   "metadata": {},
   "outputs": [
    {
     "name": "stdout",
     "output_type": "stream",
     "text": [
      "Enter the number:200\n",
      "200 is a Harshad number\n"
     ]
    }
   ],
   "source": [
    "try:\n",
    "    num = int(input(\"Enter the number:\"))\n",
    "    s = str(num)\n",
    "    l = list(s)\n",
    "    temp = 0\n",
    "    for i in range(len(l)):\n",
    "        temp = temp + (int(l[i]))\n",
    "    if num%temp == 0:\n",
    "        print(num,\"is a Harshad number\")\n",
    "    else:\n",
    "        print(\"Not a Harshad number\")\n",
    "\n",
    "except Exception as e:\n",
    "    print(\"Error\",e)"
   ]
  },
  {
   "cell_type": "markdown",
   "metadata": {},
   "source": [
    "# 6.\tWrite a Python program to print all pronic numbers between 1 and 100?"
   ]
  },
  {
   "cell_type": "code",
   "execution_count": 30,
   "metadata": {},
   "outputs": [
    {
     "name": "stdout",
     "output_type": "stream",
     "text": [
      "2 is a pronic number\n",
      "6 is a pronic number\n",
      "12 is a pronic number\n",
      "20 is a pronic number\n",
      "30 is a pronic number\n",
      "42 is a pronic number\n",
      "56 is a pronic number\n",
      "72 is a pronic number\n",
      "90 is a pronic number\n"
     ]
    }
   ],
   "source": [
    "for i in range(1,100):\n",
    "    n = i*(i+1)\n",
    "    if n<100:\n",
    "        print(n,\"is a pronic number\")"
   ]
  }
 ],
 "metadata": {
  "kernelspec": {
   "display_name": "Python 3",
   "language": "python",
   "name": "python3"
  },
  "language_info": {
   "codemirror_mode": {
    "name": "ipython",
    "version": 3
   },
   "file_extension": ".py",
   "mimetype": "text/x-python",
   "name": "python",
   "nbconvert_exporter": "python",
   "pygments_lexer": "ipython3",
   "version": "3.8.5"
  }
 },
 "nbformat": 4,
 "nbformat_minor": 4
}
