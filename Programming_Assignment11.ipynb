{
 "cells": [
  {
   "cell_type": "markdown",
   "metadata": {},
   "source": [
    "# 1.\tWrite a Python program to find words which are greater than given length k?\n"
   ]
  },
  {
   "cell_type": "code",
   "execution_count": 13,
   "metadata": {},
   "outputs": [
    {
     "name": "stdout",
     "output_type": "stream",
     "text": [
      "Enter the words:cat,dog,bull\n",
      "Enter the length you want to check:3\n",
      "The list of words is: ['cat', 'dog', 'bull']\n",
      "bull is greater than given length 3\n"
     ]
    }
   ],
   "source": [
    "l = list(map(str,input(\"Enter the words:\").split(\",\")))\n",
    "ll = int(input(\"Enter the length you want to check:\"))\n",
    "print(\"The list of words is:\",l)\n",
    "j = 0\n",
    "for i in range(len(l)):\n",
    "    if len(l[i])>ll:\n",
    "        print(l[i],\"is greater than given length\",ll)\n",
    "        j = j+1\n",
    "if j == 0:\n",
    "    print(\"No word has length greater than\",ll)"
   ]
  },
  {
   "cell_type": "markdown",
   "metadata": {},
   "source": [
    "# 2.\tWrite a Python program for removing i-th character from a string?\n",
    "\n"
   ]
  },
  {
   "cell_type": "code",
   "execution_count": 26,
   "metadata": {},
   "outputs": [
    {
     "name": "stdout",
     "output_type": "stream",
     "text": [
      "Enter the string: sumi5t\n",
      "Enter the position of the character you want to remove: 5\n",
      "original string before removing character: sumi5t\n",
      "new string after removing character: sumit\n"
     ]
    }
   ],
   "source": [
    "try:\n",
    "    n = str(input(\"Enter the string: \"))\n",
    "    r = int(input(\"Enter the position of the character you want to remove: \"))\n",
    "    print(\"original string before removing character:\", n)\n",
    "\n",
    "    if r > 0:\n",
    "        l = []\n",
    "        for i in range(len(n)):\n",
    "            l.append(n[i])\n",
    "        l.remove(l[r - 1])\n",
    "        s = \"\"\n",
    "        for j in range(len(l)):\n",
    "            s = s + l[j]\n",
    "        print(\"new string after removing character:\", s)\n",
    "    else:\n",
    "        print(\"Please give correct position\")\n",
    "\n",
    "except Exception as e:\n",
    "    print(\"Error:\",e)\n"
   ]
  },
  {
   "cell_type": "markdown",
   "metadata": {},
   "source": [
    "# 3.\tWrite a Python program to split and join a string?\n"
   ]
  },
  {
   "cell_type": "code",
   "execution_count": 2,
   "metadata": {},
   "outputs": [
    {
     "name": "stdout",
     "output_type": "stream",
     "text": [
      "Enter the stringSumit kumar sahoo\n",
      "Sumit kumar sahoo\n",
      "['Sumit', 'kumar', 'sahoo']\n",
      "Sumit kumar sahoo\n"
     ]
    }
   ],
   "source": [
    "s = str(input(\"Enter the string:\"))\n",
    "\n",
    "l = s.split(' ')\n",
    "s1 = ' '.join(l)\n",
    "\n",
    "print(s)\n",
    "print(l)\n",
    "print(s1)"
   ]
  },
  {
   "cell_type": "markdown",
   "metadata": {},
   "source": [
    "# 4.\tWrite a Python to check if a given string is binary string or not?\n"
   ]
  },
  {
   "cell_type": "code",
   "execution_count": 5,
   "metadata": {},
   "outputs": [
    {
     "name": "stdout",
     "output_type": "stream",
     "text": [
      "Enter the string:1101001\n",
      "Binary string\n"
     ]
    }
   ],
   "source": [
    "'''Binary string is astring which contains only 1 and 0'''\n",
    "\n",
    "s = str(input(\"Enter the string:\"))\n",
    "b = {\"0\",\"1\"}\n",
    "se = set(s)\n",
    "if se == b or se == {\"0\"} or se == {\"1\"}:\n",
    "    print(\"Binary string\")\n",
    "else:\n",
    "    print(\"Not a Binary string\")"
   ]
  },
  {
   "cell_type": "markdown",
   "metadata": {},
   "source": [
    "# 5.\tWrite a Python program to find uncommon words from two Strings?\n"
   ]
  },
  {
   "cell_type": "code",
   "execution_count": 7,
   "metadata": {},
   "outputs": [
    {
     "name": "stdout",
     "output_type": "stream",
     "text": [
      "Enter the first string:sumit\n",
      "Enter the second string:dibyam\n",
      "Uncommon words are there in both strings\n",
      "list of uncommon words in the twostrings are: ['s', 'u', 't', 'd', 'b', 'y', 'a']\n"
     ]
    }
   ],
   "source": [
    "def uc():\n",
    "    for i in range(len(l1)):\n",
    "        for j in range(len(l2)):\n",
    "            if l1[i]==l2[j]:\n",
    "                l2.remove(l2[j])\n",
    "                l1.remove(l1[i])\n",
    "                return uc()\n",
    "    print(\"list of uncommon words in the twostrings are:\",l1+l2)\n",
    "\n",
    "\n",
    "s1 = str(input(\"Enter the first string:\"))\n",
    "s2 = str(input(\"Enter the second string:\"))\n",
    "\n",
    "if set(s1) == set(s2):\n",
    "    print(\"no uncommon words\")\n",
    "else:\n",
    "    print(\"Uncommon words are there in both strings\")\n",
    "    l1 = list(s1)\n",
    "    l2 = list(s2)\n",
    "    uc()\n"
   ]
  },
  {
   "cell_type": "markdown",
   "metadata": {},
   "source": [
    "# 6.\tWrite a Python to find all duplicate characters in string?\n"
   ]
  },
  {
   "cell_type": "code",
   "execution_count": 28,
   "metadata": {},
   "outputs": [
    {
     "name": "stdout",
     "output_type": "stream",
     "text": [
      "Enter any string as per your wish:sumit kumar sahoo\n",
      "Duplicate characters are present:  sumao\n"
     ]
    }
   ],
   "source": [
    "s = str(input(\"Enter any string as per your wish:\"))\n",
    "dup = \" \"\n",
    "for char in s:\n",
    "    if s.count(char)>1:\n",
    "        if char not in dup:\n",
    "            dup = dup+char\n",
    "\n",
    "        \n",
    "if len(dup) == 1:\n",
    "    print(\"No duplicate character:\",s)\n",
    "else:\n",
    "    print(\"Duplicate characters are present:\",dup)"
   ]
  },
  {
   "cell_type": "markdown",
   "metadata": {},
   "source": [
    "# 7.\tWrite a Python Program to check if a string contains any special character?"
   ]
  },
  {
   "cell_type": "code",
   "execution_count": 31,
   "metadata": {},
   "outputs": [
    {
     "name": "stdout",
     "output_type": "stream",
     "text": [
      "Enter any string as per your wish:ssujjfjkjuigu%$uishg#!@\n",
      "Special characters in the string are:  %$#!@\n"
     ]
    }
   ],
   "source": [
    "s = str(input(\"Enter any string as per your wish:\"))\n",
    "spc = \"!@#$%^&*?<>,\"\n",
    "s_spc = \" \"\n",
    "for char in s:\n",
    "        if char in spc:\n",
    "            s_spc = s_spc +char\n",
    "\n",
    "\n",
    "if len(s_spc)==1:\n",
    "    print(\"No special characters present\")\n",
    "else:\n",
    "    print(\"Special characters in the string are:\",s_spc)"
   ]
  }
 ],
 "metadata": {
  "kernelspec": {
   "display_name": "Python 3",
   "language": "python",
   "name": "python3"
  },
  "language_info": {
   "codemirror_mode": {
    "name": "ipython",
    "version": 3
   },
   "file_extension": ".py",
   "mimetype": "text/x-python",
   "name": "python",
   "nbconvert_exporter": "python",
   "pygments_lexer": "ipython3",
   "version": "3.8.5"
  }
 },
 "nbformat": 4,
 "nbformat_minor": 4
}
