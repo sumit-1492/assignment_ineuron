{
 "cells": [
  {
   "cell_type": "markdown",
   "metadata": {},
   "source": [
    "# 1.What are the two values of the Boolean data type? How do you write them?"
   ]
  },
  {
   "cell_type": "markdown",
   "metadata": {},
   "source": [
    "# (ans)\n",
    "# The two values for Boolean data type is 1 and 0.\n",
    "# we consider True as 1 and False as 0."
   ]
  },
  {
   "cell_type": "markdown",
   "metadata": {},
   "source": [
    "# 2. What are the three different types of Boolean operators?\n",
    "# (ans)\n",
    "# Three boolean operators are and,or,not"
   ]
  },
  {
   "cell_type": "markdown",
   "metadata": {},
   "source": [
    "# 3. Make a list of each Boolean operator's truth tables (i.e. every possible combination of Boolean values for the operator and what it evaluate ).\n",
    "# (ans)\n",
    "# And\n",
    "# 0   0   0\n",
    "# 0   1   0\n",
    "# 1   0   0\n",
    "# 1   1   1\n",
    "# OR\n",
    "#  0\t     0\t       0\n",
    "#  0\t     1\t       1\n",
    "#  1\t     0\t       1\n",
    "#  1\t     1\t       1\n",
    "# NOT\n",
    "#   1         0\n",
    "#   0        1\n"
   ]
  },
  {
   "cell_type": "markdown",
   "metadata": {},
   "source": [
    "# 4. What are the values of the following expressions?\n",
    "# (ans)\n",
    "# (5 > 4) and (3 == 5) :- False\n",
    "# not (5 > 4) :- False\n",
    "# (5 > 4) or (3 == 5) :- True\n",
    "# not ((5 > 4) or (3 == 5)) :- False\n",
    "# (True and True) and (True == False) :- False\n",
    "# (not False) or (not True) :- True"
   ]
  },
  {
   "cell_type": "markdown",
   "metadata": {},
   "source": [
    "# 5. What are the six comparison operators?\n",
    "# (ans)\n",
    "# = , > , >= , < , <= ,!="
   ]
  },
  {
   "cell_type": "markdown",
   "metadata": {},
   "source": [
    "# 6. How do you tell the difference between the equal to and assignment operators?Describe a condition and when you would use one.\n",
    "# (ans)\n",
    "# The equal to operator assign value to the variable. e.g a=5\n",
    "# The assignment operator checks whether assigned value true or false . \n",
    "# e.g 5 == 5, it will return True"
   ]
  },
  {
   "cell_type": "markdown",
   "metadata": {},
   "source": [
    "# 7. Identify the three blocks in this code:\n",
    "# spam = 0\n",
    "# (ans)block 1\n",
    "# if spam == 10:\n",
    "# print('eggs')\n",
    "# (ans)block 2\n",
    "# if spam > 5:\n",
    "# print('bacon')\n",
    "# (ans)block 3\n",
    "# else:\n",
    "# print('ham')\n",
    "# print('spam')\n",
    "# print('spam')\n"
   ]
  },
  {
   "cell_type": "markdown",
   "metadata": {},
   "source": [
    "# 8. Write code that prints Hello if 1 is stored in spam, prints Howdy if 2 is stored in spam, and prints Greetings! if anything else is stored in spam.\n",
    "# (ans)"
   ]
  },
  {
   "cell_type": "code",
   "execution_count": null,
   "metadata": {},
   "outputs": [],
   "source": [
    "spam = str(input(\"Enter a number : \"))\n",
    "if spam == '1':\n",
    "    print (\"Hello\")\n",
    "elif spam == '2':\n",
    "     print (\"Howdy\")\n",
    "else:\n",
    "     print(\"Greetings\")"
   ]
  },
  {
   "cell_type": "markdown",
   "metadata": {},
   "source": [
    "# 9.If your programme is stuck in an endless loop, what keys you’ll press?\n",
    "# (ans)\n",
    "# Ctrl + C ."
   ]
  },
  {
   "cell_type": "markdown",
   "metadata": {},
   "source": [
    "# 10. How can you tell the difference between break and continue?\n",
    "# (ans)\n",
    "# break uses for the stopping of a continuation of a loop with condition or without condition.break works with switches and labels.\n",
    "# continue uses for continuation of the loop. it only stops in the current loop. continue can not be executed with switch and labels."
   ]
  },
  {
   "cell_type": "markdown",
   "metadata": {},
   "source": [
    "# 11. In a for loop, what is the difference between range(10), range(0, 10), and range(0, 10, 1)?\n",
    "# (ans)\n",
    "# in range(10) it will go from 0 to 9.\n",
    "# in range(0,10) it has a start point 0 and end point 10 (but still it goes 0 to 9)\n",
    "# in range(0,10,1) it has start point 0 end point 10 with step size 1 \n",
    "# (but still it will go 0 to 9)"
   ]
  },
  {
   "cell_type": "markdown",
   "metadata": {},
   "source": [
    "# 12.Write a short program that prints the numbers 1 to 10 using a for loop. Then write an equivalent program that prints the numbers 1 to 10 using a while loop.\n",
    "# (ans)"
   ]
  },
  {
   "cell_type": "code",
   "execution_count": null,
   "metadata": {},
   "outputs": [],
   "source": [
    "for i in range(0,10):\n",
    "    print (i+1)"
   ]
  },
  {
   "cell_type": "code",
   "execution_count": null,
   "metadata": {},
   "outputs": [],
   "source": [
    "i = 1\n",
    "while(i<=10):\n",
    "    print(i)\n",
    "    i += 1"
   ]
  },
  {
   "cell_type": "markdown",
   "metadata": {},
   "source": [
    "# 13. If you had a function named bacon() inside a module named spam, how would you call it after importing spam?\n",
    "# (ans)\n",
    "# spam.bacon()"
   ]
  }
 ],
 "metadata": {
  "kernelspec": {
   "display_name": "Python 3",
   "language": "python",
   "name": "python3"
  },
  "language_info": {
   "codemirror_mode": {
    "name": "ipython",
    "version": 3
   },
   "file_extension": ".py",
   "mimetype": "text/x-python",
   "name": "python",
   "nbconvert_exporter": "python",
   "pygments_lexer": "ipython3",
   "version": "3.8.5"
  }
 },
 "nbformat": 4,
 "nbformat_minor": 4
}
