{
 "cells": [
  {
   "cell_type": "markdown",
   "metadata": {},
   "source": [
    "# 1.\tWrite a Python program to Extract Unique values dictionary values?\n"
   ]
  },
  {
   "cell_type": "code",
   "execution_count": 3,
   "metadata": {},
   "outputs": [
    {
     "name": "stdout",
     "output_type": "stream",
     "text": [
      "Unique values in dictionary is: [1, 2, 5, 6, 7, 8, 10, 11, 12]\n"
     ]
    }
   ],
   "source": [
    "test = {'mfg': [5, 6, 7, 8],\n",
    "        'price': [10, 11, 7, 5],\n",
    "        'bestbefore': [6, 12, 10, 8],\n",
    "        'for': [1, 2, 5]}\n",
    "\n",
    "\n",
    "l = list(test.values())\n",
    "\n",
    "r = []\n",
    "for i in range(len(l)):\n",
    "    for j in range(len(l[i])):\n",
    "        if l[i][j] not in r:\n",
    "            r.append(l[i][j])\n",
    "\n",
    "\n",
    "r.sort()\n",
    "print(\"Unique values in dictionary is:\",r)"
   ]
  },
  {
   "cell_type": "markdown",
   "metadata": {},
   "source": [
    "# 2.\tWrite a Python program to find the sum of all items in a dictionary?\n"
   ]
  },
  {
   "cell_type": "code",
   "execution_count": 5,
   "metadata": {},
   "outputs": [
    {
     "name": "stdout",
     "output_type": "stream",
     "text": [
      "sum of dictionary values are: 15\n"
     ]
    }
   ],
   "source": [
    "d = {'A': 1, 'U':2, 'T':3, 'O':4, 'R':5}\n",
    "\n",
    "sum = 0\n",
    "for i in d.values():\n",
    "    sum = sum+i\n",
    "\n",
    "print(\"sum of dictionary values are:\",sum)"
   ]
  },
  {
   "cell_type": "markdown",
   "metadata": {},
   "source": [
    "# 3.\tWrite a Python program to Merging two Dictionaries?\n"
   ]
  },
  {
   "cell_type": "code",
   "execution_count": 8,
   "metadata": {},
   "outputs": [
    {
     "name": "stdout",
     "output_type": "stream",
     "text": [
      "Dictionaries after merging: {'A': 1, 'U': 2, 'T': 3, 'O': 4, 'R': 5, 'gfg': [5, 6, 7, 8], 'is': [10, 11, 7, 5], 'best': [6, 12, 10, 8], 'for': [1, 2, 5]}\n"
     ]
    }
   ],
   "source": [
    "d1 = {'A': 1, 'U':2, 'T':3, 'O':4, 'R':5}\n",
    "d2 = {'gfg': [5, 6, 7, 8],\n",
    "        'is': [10, 11, 7, 5],\n",
    "        'best': [6, 12, 10, 8],\n",
    "        'for': [1, 2, 5]}\n",
    "d3=d1.copy()\n",
    "d3.update(d2)\n",
    "print(\"Dictionaries after merging:\",d3)"
   ]
  },
  {
   "cell_type": "markdown",
   "metadata": {},
   "source": [
    "# 4.\tWrite a Python program to convert key-values list to flat dictionary?\n"
   ]
  },
  {
   "cell_type": "code",
   "execution_count": 1,
   "metadata": {},
   "outputs": [
    {
     "name": "stdout",
     "output_type": "stream",
     "text": [
      "Initial dictionary is: {'month_num': [1, 2, 3, 4, 5, 6], 'name_of_month': ['Jan', 'Feb', 'March', 'Apr', 'May', 'June']}\n",
      "The flat dictionary is: {1: 'Jan', 2: 'Feb', 3: 'March', 4: 'Apr', 5: 'May', 6: 'June'}\n"
     ]
    }
   ],
   "source": [
    "d = {'month_num' : [1, 2, 3, 4, 5, 6], 'name_of_month' : ['Jan', 'Feb', 'March', 'Apr', 'May', 'June']}\n",
    "\n",
    "print(\"Initial dictionary is:\",d)\n",
    "\n",
    "e=[]\n",
    "for i in d.values():\n",
    "    e.append(i)\n",
    "\n",
    "f = {}\n",
    "if len(e[0]) == len(e[1]):\n",
    "\n",
    "    for j in range(len(e[0])):\n",
    "        f[e[0][j]]=e[1][j]\n",
    "\n",
    "    print(\"The flat dictionary is:\", f)\n",
    "else:\n",
    "    print(\"Not possible\")"
   ]
  },
  {
   "cell_type": "markdown",
   "metadata": {},
   "source": [
    "# 5.\tWrite a Python program to insertion at the beginning in OrderedDict?\n"
   ]
  },
  {
   "cell_type": "code",
   "execution_count": 7,
   "metadata": {},
   "outputs": [
    {
     "name": "stdout",
     "output_type": "stream",
     "text": [
      "OrderedDict([('mo', '3'), ('sumit', '14'), ('dibyam', '07')])\n"
     ]
    }
   ],
   "source": [
    "from collections import OrderedDict\n",
    "d1 = OrderedDict([('sumit', '14'), ('dibyam', '07')])\n",
    "d1.update({'mo':'3'})\n",
    "d1.move_to_end('mo', last=False)\n",
    "print(d1)"
   ]
  },
  {
   "cell_type": "markdown",
   "metadata": {},
   "source": [
    "# 6.\tWrite a Python program to check order of character in string using OrderedDict()?\n"
   ]
  },
  {
   "cell_type": "code",
   "execution_count": 5,
   "metadata": {},
   "outputs": [
    {
     "name": "stdout",
     "output_type": "stream",
     "text": [
      "In order\n",
      "No order\n"
     ]
    }
   ],
   "source": [
    "from collections import OrderedDict \n",
    "\n",
    "def co(string, pattern): \n",
    "    dic = OrderedDict.fromkeys(string) \n",
    "    ptr = 0\n",
    "    for key,value in dic.items(): \n",
    "        if (key == pattern[ptr]): \n",
    "            ptr = ptr + 1\n",
    "        if (ptr == (len(pattern))): \n",
    "            return print(\"In order\")\n",
    "    return print(\"No order\")\n",
    "\n",
    "s1 = 'Sumit kumar'\n",
    "p1 = 'Sum'\n",
    "co(s1,p1)\n",
    "\n",
    "s2= 'Dibyam Dipam'\n",
    "p2= 'bi'\n",
    "co(s2,p2) "
   ]
  },
  {
   "cell_type": "markdown",
   "metadata": {},
   "source": [
    "# 7.\tWrite a Python program to sort Python Dictionaries by Key or Value?"
   ]
  },
  {
   "cell_type": "code",
   "execution_count": 9,
   "metadata": {},
   "outputs": [
    {
     "name": "stdout",
     "output_type": "stream",
     "text": [
      "[(1, 'A'), (2, 'B'), (3, 'C'), (4, 'D'), (5, 'E'), (6, 'F')]\n",
      "[1, 2, 3, 4, 5, 6]\n",
      "['A', 'B', 'C', 'D', 'E', 'F']\n"
     ]
    }
   ],
   "source": [
    "n = {1:'A' ,2:'B' ,4:'D' ,3:'C' ,6:'F' ,5:'E' }  \n",
    " \n",
    "print(sorted(n.items()))\n",
    "print(sorted(n.keys()))\n",
    "print(sorted(n.values()))"
   ]
  }
 ],
 "metadata": {
  "kernelspec": {
   "display_name": "Python 3",
   "language": "python",
   "name": "python3"
  },
  "language_info": {
   "codemirror_mode": {
    "name": "ipython",
    "version": 3
   },
   "file_extension": ".py",
   "mimetype": "text/x-python",
   "name": "python",
   "nbconvert_exporter": "python",
   "pygments_lexer": "ipython3",
   "version": "3.8.5"
  }
 },
 "nbformat": 4,
 "nbformat_minor": 4
}
