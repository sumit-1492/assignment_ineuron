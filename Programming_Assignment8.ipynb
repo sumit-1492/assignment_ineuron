{
 "cells": [
  {
   "cell_type": "markdown",
   "metadata": {},
   "source": [
    "# 1.\tWrite a Python Program to Add Two Matrices?\n"
   ]
  },
  {
   "cell_type": "code",
   "execution_count": 3,
   "metadata": {},
   "outputs": [
    {
     "name": "stdout",
     "output_type": "stream",
     "text": [
      "Enter how many list you want within the list:2\n",
      "1 2\n",
      "3 4\n",
      "Enter how many list you want within the list:2\n",
      "1 2\n",
      "3 4\n",
      "The first matrix is : [[1, 2], [3, 4]]\n",
      "The second matrix is : [[1, 2], [3, 4]]\n",
      "[2, 4]\n",
      "[6, 8]\n",
      "The addition of two matrix is: [[2, 4], [6, 8]]\n"
     ]
    }
   ],
   "source": [
    "x = [list(map(int,input().split())) for i in range(int(input(\"Enter how many list you want within the list:\")))]\n",
    "y = [list(map(int,input().split())) for i in range(int(input(\"Enter how many list you want within the list:\")))]\n",
    "print(\"The first matrix is :\",x)\n",
    "print(\"The second matrix is :\",y)\n",
    "p=[]\n",
    "try:\n",
    "\n",
    "    if len(x) == len(y):\n",
    "        for i in range(len(x)):\n",
    "            s = []\n",
    "            for j in range(len(x[0])):\n",
    "                s.append(x[i][j] + y[i][j])\n",
    "            print(s)\n",
    "            p.append(s)\n",
    "        print(\"The addition of two matrix is:\",p)\n",
    "    else:\n",
    "        print(\"no\")\n",
    "except Exception as e:\n",
    "    print(\"Error :\",e)"
   ]
  },
  {
   "cell_type": "markdown",
   "metadata": {},
   "source": [
    "# 2.\tWrite a Python Program to Multiply Two Matrices?\n"
   ]
  },
  {
   "cell_type": "code",
   "execution_count": 5,
   "metadata": {},
   "outputs": [
    {
     "name": "stdout",
     "output_type": "stream",
     "text": [
      "Enter how many list you want within the list:2\n",
      "1 2 3\n",
      "4 5 6\n",
      "Enter how many list you want within the list:3\n",
      "1 2\n",
      "4 5\n",
      "3 6\n",
      "The first matrix is : [[1, 2, 3], [4, 5, 6]]\n",
      "The second matrix is : [[1, 2], [4, 5], [3, 6]]\n",
      "Multiplication Possible\n",
      "[18, 30]\n",
      "[42, 69]\n"
     ]
    }
   ],
   "source": [
    "x = [list(map(int,input().split())) for i in range(int(input(\"Enter how many list you want within the list:\")))]\n",
    "y = [list(map(int,input().split())) for i in range(int(input(\"Enter how many list you want within the list:\")))]\n",
    "print(\"The first matrix is :\",x)\n",
    "print(\"The second matrix is :\",y)\n",
    "\n",
    "try:\n",
    "    if len(x[0]) == len(y):\n",
    "        print(\"Multiplication Possible\")\n",
    "        for i in range(len(x)):\n",
    "            m = []\n",
    "            for k in range(len(y[0])):\n",
    "                temp=0\n",
    "                for j in range(len(y)):\n",
    "                    temp = temp + (x[i][j]*y[j][k])\n",
    "                m.append(temp)\n",
    "            print(m)\n",
    "    else:\n",
    "        print(\"Check rows and columns of the matrices\")\n",
    "except Exception as e:\n",
    "    print(\"Error\",e)"
   ]
  },
  {
   "cell_type": "markdown",
   "metadata": {},
   "source": [
    "# 3.\tWrite a Python Program to Transpose a Matrix?\n"
   ]
  },
  {
   "cell_type": "code",
   "execution_count": 7,
   "metadata": {},
   "outputs": [
    {
     "name": "stdout",
     "output_type": "stream",
     "text": [
      "Enter how many list you want within the list:2\n",
      "1 2 3\n",
      "4 5 6\n",
      "The matrix is : [[1, 2, 3], [4, 5, 6]]\n",
      "[1, 4]\n",
      "[2, 5]\n",
      "[3, 6]\n"
     ]
    }
   ],
   "source": [
    "x = [list(map(int,input().split())) for i in range(int(input(\"Enter how many list you want within the list:\")))]\n",
    "print(\"The matrix is :\",x)\n",
    "for i in range(len(x[0])):\n",
    "    m = []\n",
    "    for j in range(len(x)):\n",
    "        m.append(x[j][i])\n",
    "    print(m)"
   ]
  },
  {
   "cell_type": "markdown",
   "metadata": {},
   "source": [
    "# 4.\tWrite a Python Program to Sort Words in Alphabetic Order?\n"
   ]
  },
  {
   "cell_type": "code",
   "execution_count": 11,
   "metadata": {},
   "outputs": [
    {
     "name": "stdout",
     "output_type": "stream",
     "text": [
      "Enter the words:sumit,kumar,sahoo\n",
      "['sumit', 'kumar', 'sahoo']\n",
      "['kumar', 'sahoo', 'sumit']\n"
     ]
    }
   ],
   "source": [
    "x = list(map(str,input(\"Enter the words:\").split(\",\")))\n",
    "print(x)\n",
    "x.sort()\n",
    "print(x)"
   ]
  },
  {
   "cell_type": "markdown",
   "metadata": {},
   "source": [
    "# 5.\tWrite a Python Program to Remove Punctuation From a String?"
   ]
  },
  {
   "cell_type": "code",
   "execution_count": 20,
   "metadata": {},
   "outputs": [
    {
     "name": "stdout",
     "output_type": "stream",
     "text": [
      "Enter a line with punctuations :'Sumit,,[]$ is \"? a %$&* good #@^&^& boy.'\n",
      "Line widout punctuation is:  Sumit is  a  good  boy\n"
     ]
    }
   ],
   "source": [
    "p = '''!()-[]{};:'\"\\,<>./?@#$%^&*_~'''\n",
    "\n",
    "sentence = str(input(\"Enter a line with punctuations :\"))\n",
    "\n",
    "no_punct = \" \"\n",
    "for char in sentence:\n",
    "    if char not in p:\n",
    "        no_punct = no_punct + char\n",
    "\n",
    "print(\"Line widout punctuation is:\",no_punct)"
   ]
  }
 ],
 "metadata": {
  "kernelspec": {
   "display_name": "Python 3",
   "language": "python",
   "name": "python3"
  },
  "language_info": {
   "codemirror_mode": {
    "name": "ipython",
    "version": 3
   },
   "file_extension": ".py",
   "mimetype": "text/x-python",
   "name": "python",
   "nbconvert_exporter": "python",
   "pygments_lexer": "ipython3",
   "version": "3.8.5"
  }
 },
 "nbformat": 4,
 "nbformat_minor": 4
}
